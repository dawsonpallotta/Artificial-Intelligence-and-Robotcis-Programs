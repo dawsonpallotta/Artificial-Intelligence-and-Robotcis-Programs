{
 "cells": [
  {
   "cell_type": "markdown",
   "id": "6537b0c3-cdb0-4266-b422-d7788da7ef05",
   "metadata": {},
   "source": [
    "# Rules of Pig"
   ]
  },
  {
   "cell_type": "markdown",
   "id": "bffeb990-e547-499f-a13c-2c28e8c58c50",
   "metadata": {},
   "source": [
    "- moves are either \"hold\" or \"roll\"\n",
    "- \"roll\" a die \n",
    "    - if 2-6- add to your turn total\n",
    "    - if 1 turn total=0, next turn\n",
    "- \"hold\"\n",
    "    - trun total gets added to the players total, next turn\n"
   ]
  },
  {
   "cell_type": "code",
   "execution_count": 1,
   "id": "59c8a04a-242b-4851-b4a2-5e980e1db7e4",
   "metadata": {},
   "outputs": [
    {
     "name": "stdout",
     "output_type": "stream",
     "text": [
      "Collecting git+git://github.com/bblais/Game\n",
      "  Cloning git://github.com/bblais/Game to c:\\users\\student\\appdata\\local\\temp\\pip-req-build-bye0lhya\n"
     ]
    },
    {
     "name": "stderr",
     "output_type": "stream",
     "text": [
      "  Running command git clone -q git://github.com/bblais/Game 'C:\\Users\\student\\AppData\\Local\\Temp\\pip-req-build-bye0lhya'\n"
     ]
    }
   ],
   "source": [
    "!pip install \"git+git://github.com/bblais/Game\" --upgrade"
   ]
  },
  {
   "cell_type": "code",
   "execution_count": 2,
   "id": "140e9551-5ab9-47ce-b8f5-3061ecf17b58",
   "metadata": {},
   "outputs": [
    {
     "name": "stdout",
     "output_type": "stream",
     "text": [
      "Version:  0.2.33\n"
     ]
    }
   ],
   "source": [
    "from Game import*"
   ]
  },
  {
   "cell_type": "code",
   "execution_count": 16,
   "id": "fb575abe-1d4a-4ac7-abe2-41dac9262e1f",
   "metadata": {},
   "outputs": [],
   "source": [
    "def valid_moves(state,player):\n",
    "    return[\"hold\",\"roll\"]\n",
    "\n",
    "def initial_state():\n",
    "    \n",
    "    #player 1's total, player 2's total, turn total\n",
    "    return[0,0,0]"
   ]
  },
  {
   "cell_type": "code",
   "execution_count": 17,
   "id": "ef3926f2-b231-4c2b-8c8b-f2c431fa06a8",
   "metadata": {},
   "outputs": [],
   "source": [
    "def show_state(state):\n",
    "    print(\"Player 1's total is\", state[0])\n",
    "    print(\"Player 2's total is\", state[1])\n",
    "    print(\"The turn total is\", state[2])"
   ]
  },
  {
   "cell_type": "code",
   "execution_count": 18,
   "id": "34e3775e-47d5-4a80-8b6d-505f2ed8005c",
   "metadata": {},
   "outputs": [],
   "source": [
    "def update_state(state,player,move):\n",
    "    new_state=state\n",
    "    \n",
    "    total1,total2,turn_total=state\n",
    "    \n",
    "    if move==\"hold\":\n",
    "        # state total is [player 1's total, player 2's total, turn total]\n",
    "        if player==1:\n",
    "            new_state[0]+=turn_total\n",
    "        else:\n",
    "            new_state[1]+=turn_total\n",
    "        \n",
    "        new_state[2]=0\n",
    "    \n",
    "    \n",
    "    else:   #roll\n",
    "        dice=random.randint(1,6) #generates a random numberbetween 1 and 6\n",
    "        \n",
    "        if dice==1:\n",
    "            new_state[2]=0\n",
    "        \n",
    "        else: \n",
    "            \n",
    "            new_state[2]+=dice\n",
    "            \n",
    "    return new_state"
   ]
  },
  {
   "cell_type": "code",
   "execution_count": 19,
   "id": "869bbe3f-93c8-4c9e-a7e1-dafac4300374",
   "metadata": {},
   "outputs": [],
   "source": [
    "def win_status(state,player):\n",
    "    \n",
    "    max_score=21\n",
    "    total1,total2,turn_total=state\n",
    "    \n",
    "    \n",
    "    if player==1:\n",
    "        \n",
    "        if total1+turn_total>=max_score:\n",
    "            return \"win\"\n",
    "    else:\n",
    "        if total2+turn_total>=max_score:\n",
    "            return \"win\""
   ]
  },
  {
   "cell_type": "code",
   "execution_count": 20,
   "id": "b8952611-f1d0-488a-a6b7-ef018d484412",
   "metadata": {},
   "outputs": [],
   "source": [
    "def repeat_move(state,player,move):\n",
    "    turn_total=state[2]\n",
    "    \n",
    "    if turn_total>0:\n",
    "        return True\n",
    "    else:\n",
    "        return False"
   ]
  },
  {
   "cell_type": "code",
   "execution_count": 21,
   "id": "036567fe-fa2d-46cc-9953-4db2e6326da9",
   "metadata": {},
   "outputs": [],
   "source": [
    "def human_move(state,player):\n",
    "    print(\"Player\", player)\n",
    "    s=input(\"hold or roll?\")\n",
    "    \n",
    "    if s[0]=='h':\n",
    "        return \"hold\"\n",
    "    elif s[0]=='r':\n",
    "        return \"roll\"\n",
    "\n",
    "human_agent=Agent(human_move)"
   ]
  },
  {
   "cell_type": "code",
   "execution_count": 22,
   "id": "23c0c220-6239-43c4-8e92-c75a4098cab0",
   "metadata": {},
   "outputs": [],
   "source": [
    "def random_move(state,player):\n",
    "    move=random.choice(valid_moves(state,player))\n",
    "    return move\n",
    "\n",
    "random_agent=Agent(random_move)"
   ]
  },
  {
   "cell_type": "code",
   "execution_count": 28,
   "id": "36beb04a-5aac-41cb-8b18-61dc7b14de2e",
   "metadata": {},
   "outputs": [
    {
     "name": "stdout",
     "output_type": "stream",
     "text": [
      "====\n",
      "Game  1\n",
      "Player 1's total is 0\n",
      "Player 2's total is 0\n",
      "The turn total is 0\n",
      "Player 1\n"
     ]
    },
    {
     "name": "stdin",
     "output_type": "stream",
     "text": [
      "hold or roll? r\n"
     ]
    },
    {
     "name": "stdout",
     "output_type": "stream",
     "text": [
      "Player 1 moves roll\n",
      "Player 1's total is 0\n",
      "Player 2's total is 0\n",
      "The turn total is 2\n",
      "Player 1\n"
     ]
    },
    {
     "name": "stdin",
     "output_type": "stream",
     "text": [
      "hold or roll? r\n"
     ]
    },
    {
     "name": "stdout",
     "output_type": "stream",
     "text": [
      "Player 1 moves roll\n",
      "Player 1's total is 0\n",
      "Player 2's total is 0\n",
      "The turn total is 4\n",
      "Player 1\n"
     ]
    },
    {
     "name": "stdin",
     "output_type": "stream",
     "text": [
      "hold or roll? r\n"
     ]
    },
    {
     "name": "stdout",
     "output_type": "stream",
     "text": [
      "Player 1 moves roll\n",
      "Player 1's total is 0\n",
      "Player 2's total is 0\n",
      "The turn total is 0\n",
      "Player 2 moves roll\n",
      "Player 1's total is 0\n",
      "Player 2's total is 0\n",
      "The turn total is 3\n",
      "Player 2 moves hold\n",
      "Player 1's total is 0\n",
      "Player 2's total is 3\n",
      "The turn total is 0\n",
      "Player 1\n"
     ]
    },
    {
     "name": "stdin",
     "output_type": "stream",
     "text": [
      "hold or roll? r\n"
     ]
    },
    {
     "name": "stdout",
     "output_type": "stream",
     "text": [
      "Player 1 moves roll\n",
      "Player 1's total is 0\n",
      "Player 2's total is 3\n",
      "The turn total is 3\n",
      "Player 1\n"
     ]
    },
    {
     "name": "stdin",
     "output_type": "stream",
     "text": [
      "hold or roll? h\n"
     ]
    },
    {
     "name": "stdout",
     "output_type": "stream",
     "text": [
      "Player 1 moves hold\n",
      "Player 1's total is 3\n",
      "Player 2's total is 3\n",
      "The turn total is 0\n",
      "Player 2 moves roll\n",
      "Player 1's total is 3\n",
      "Player 2's total is 3\n",
      "The turn total is 4\n",
      "Player 2 moves hold\n",
      "Player 1's total is 3\n",
      "Player 2's total is 7\n",
      "The turn total is 0\n",
      "Player 1\n"
     ]
    },
    {
     "name": "stdin",
     "output_type": "stream",
     "text": [
      "hold or roll? r\n"
     ]
    },
    {
     "name": "stdout",
     "output_type": "stream",
     "text": [
      "Player 1 moves roll\n",
      "Player 1's total is 3\n",
      "Player 2's total is 7\n",
      "The turn total is 2\n",
      "Player 1\n"
     ]
    },
    {
     "name": "stdin",
     "output_type": "stream",
     "text": [
      "hold or roll? r\n"
     ]
    },
    {
     "name": "stdout",
     "output_type": "stream",
     "text": [
      "Player 1 moves roll\n",
      "Player 1's total is 3\n",
      "Player 2's total is 7\n",
      "The turn total is 6\n",
      "Player 1\n"
     ]
    },
    {
     "name": "stdin",
     "output_type": "stream",
     "text": [
      "hold or roll? h\n"
     ]
    },
    {
     "name": "stdout",
     "output_type": "stream",
     "text": [
      "Player 1 moves hold\n",
      "Player 1's total is 9\n",
      "Player 2's total is 7\n",
      "The turn total is 0\n",
      "Player 2 moves hold\n",
      "Player 1's total is 9\n",
      "Player 2's total is 7\n",
      "The turn total is 0\n",
      "Player 1\n"
     ]
    },
    {
     "name": "stdin",
     "output_type": "stream",
     "text": [
      "hold or roll? r\n"
     ]
    },
    {
     "name": "stdout",
     "output_type": "stream",
     "text": [
      "Player 1 moves roll\n",
      "Player 1's total is 9\n",
      "Player 2's total is 7\n",
      "The turn total is 0\n",
      "Player 2 moves roll\n",
      "Player 1's total is 9\n",
      "Player 2's total is 7\n",
      "The turn total is 4\n",
      "Player 2 moves roll\n",
      "Player 1's total is 9\n",
      "Player 2's total is 7\n",
      "The turn total is 0\n",
      "Player 1\n"
     ]
    },
    {
     "name": "stdin",
     "output_type": "stream",
     "text": [
      "hold or roll? r\n"
     ]
    },
    {
     "name": "stdout",
     "output_type": "stream",
     "text": [
      "Player 1 moves roll\n",
      "Player 1's total is 9\n",
      "Player 2's total is 7\n",
      "The turn total is 2\n",
      "Player 1\n"
     ]
    },
    {
     "name": "stdin",
     "output_type": "stream",
     "text": [
      "hold or roll? r\n"
     ]
    },
    {
     "name": "stdout",
     "output_type": "stream",
     "text": [
      "Player 1 moves roll\n",
      "Player 1's total is 9\n",
      "Player 2's total is 7\n",
      "The turn total is 5\n",
      "Player 1\n"
     ]
    },
    {
     "name": "stdin",
     "output_type": "stream",
     "text": [
      "hold or roll? r\n"
     ]
    },
    {
     "name": "stdout",
     "output_type": "stream",
     "text": [
      "Player 1 moves roll\n",
      "Player 1's total is 9\n",
      "Player 2's total is 7\n",
      "The turn total is 9\n",
      "Player 1\n"
     ]
    },
    {
     "name": "stdin",
     "output_type": "stream",
     "text": [
      "hold or roll? h\n"
     ]
    },
    {
     "name": "stdout",
     "output_type": "stream",
     "text": [
      "Player 1 moves hold\n",
      "Player 1's total is 18\n",
      "Player 2's total is 7\n",
      "The turn total is 0\n",
      "Player 2 moves hold\n",
      "Player 1's total is 18\n",
      "Player 2's total is 7\n",
      "The turn total is 0\n",
      "Player 1\n"
     ]
    },
    {
     "name": "stdin",
     "output_type": "stream",
     "text": [
      "hold or roll? r\n"
     ]
    },
    {
     "name": "stdout",
     "output_type": "stream",
     "text": [
      "Player 1 moves roll\n",
      "Player 1's total is 18\n",
      "Player 2's total is 7\n",
      "The turn total is 0\n",
      "Player 2 moves hold\n",
      "Player 1's total is 18\n",
      "Player 2's total is 7\n",
      "The turn total is 0\n",
      "Player 1\n"
     ]
    },
    {
     "name": "stdin",
     "output_type": "stream",
     "text": [
      "hold or roll? r\n"
     ]
    },
    {
     "name": "stdout",
     "output_type": "stream",
     "text": [
      "Player 1 moves roll\n",
      "Player 1's total is 18\n",
      "Player 2's total is 7\n",
      "The turn total is 0\n",
      "Player 2 moves hold\n",
      "Player 1's total is 18\n",
      "Player 2's total is 7\n",
      "The turn total is 0\n",
      "Player 1\n"
     ]
    },
    {
     "name": "stdin",
     "output_type": "stream",
     "text": [
      "hold or roll? r\n"
     ]
    },
    {
     "name": "stdout",
     "output_type": "stream",
     "text": [
      "Player 1 moves roll\n",
      "Player 1's total is 18\n",
      "Player 2's total is 7\n",
      "The turn total is 0\n",
      "Player  1 won.\n"
     ]
    },
    {
     "data": {
      "text/plain": [
       "[1]"
      ]
     },
     "execution_count": 28,
     "metadata": {},
     "output_type": "execute_result"
    }
   ],
   "source": [
    "g=Game()\n",
    "g.run(human_agent,random_agent)"
   ]
  },
  {
   "cell_type": "code",
   "execution_count": 1,
   "id": "678419a7-b6e8-4d9a-8107-6f0858bca12e",
   "metadata": {},
   "outputs": [],
   "source": [
    "from functools import lru_cache"
   ]
  },
  {
   "cell_type": "code",
   "execution_count": 2,
   "id": "bd5c9ee8-9e59-4d12-a4b3-04d68f5c9c0b",
   "metadata": {},
   "outputs": [],
   "source": [
    "@lru_cache\n",
    "def P(i,j,k,action=None):\n",
    "    # i = player score\n",
    "    # j = opponents score\n",
    "    # k = turn score\n",
    "    # action = \"roll\", \"hold\", None\n",
    "    \n",
    "    goal = 5\n",
    "    \n",
    "    if action is None:\n",
    "        if i+k>=goal:\n",
    "            return 1.0 # certain I've won\n",
    "        if j>=goal:\n",
    "            return 0.0 # certain I've lost\n",
    "        \n",
    "        return max(P(i,j,k,\"hold\"),P(i,j,k,\"roll\"))\n",
    "    \n",
    "    if action == \"hold\":  # may have to do \"progressive Pig\" here\n",
    "        if k==0:  # progressive pig\n",
    "            k=1\n",
    "        return 1-P(j,i+k,0)\n",
    "    elif action == \"roll\":\n",
    "        prob=1/6*P(i,j,k+2) + 1/6*P(i,j,k+3) + 1/6*P(i,j,k+4) + 1/6*P(i,j,k+5) + 1/6*P(i,j,k+6)\n",
    "        prob+= 1/6*(1-P(j,i+1,0)) # progressive pig\n",
    "        return prob\n",
    "    else:\n",
    "        \n",
    "        raise ValueError(\"You can't get there from here.   \"+str(action))"
   ]
  },
  {
   "cell_type": "code",
   "execution_count": 3,
   "id": "c09239ea-4725-4ce5-8d93-562810dc8a3e",
   "metadata": {},
   "outputs": [
    {
     "data": {
      "text/plain": [
       "0.7984820253271657"
      ]
     },
     "execution_count": 3,
     "metadata": {},
     "output_type": "execute_result"
    }
   ],
   "source": [
    "P(0,0,0)"
   ]
  },
  {
   "cell_type": "code",
   "execution_count": null,
   "id": "d1488859-d05a-4b41-9d4e-ac95ce2adf59",
   "metadata": {},
   "outputs": [],
   "source": []
  }
 ],
 "metadata": {
  "kernelspec": {
   "display_name": "Python 3",
   "language": "python",
   "name": "python3"
  },
  "language_info": {
   "codemirror_mode": {
    "name": "ipython",
    "version": 3
   },
   "file_extension": ".py",
   "mimetype": "text/x-python",
   "name": "python",
   "nbconvert_exporter": "python",
   "pygments_lexer": "ipython3",
   "version": "3.8.8"
  }
 },
 "nbformat": 4,
 "nbformat_minor": 5
}
