{
 "cells": [
  {
   "cell_type": "code",
   "execution_count": 4,
   "id": "71b326dc-b5a2-487e-9cff-b17b4f5b0bfb",
   "metadata": {},
   "outputs": [
    {
     "name": "stdout",
     "output_type": "stream",
     "text": [
      "Version:  0.0.46\n"
     ]
    }
   ],
   "source": [
    "from Game import *\n",
    "from RobotSim373 import *"
   ]
  },
  {
   "cell_type": "code",
   "execution_count": 5,
   "id": "2812b5d4-926e-4a00-8d7c-5b5a338dc918",
   "metadata": {},
   "outputs": [],
   "source": [
    "def initial_state():\n",
    "    state=Board(4,5)\n",
    "    \n",
    "    for i in range(20):\n",
    "        state [i]=1\n",
    "\n",
    "\n",
    "    \n",
    "    return state\n"
   ]
  },
  {
   "cell_type": "code",
   "execution_count": 6,
   "id": "7ce99f14-7eae-4122-896a-62ac13bc9171",
   "metadata": {},
   "outputs": [],
   "source": [
    "def update_state(state,player,move):\n",
    "    #a move is a start and end location\n",
    "    new_state=state\n",
    "    \n",
    "    start_row,start_col=state.rc_from_index(move)\n",
    "    \n",
    "    for c in range(start_col,5):\n",
    "        for r in range(start_row,4):\n",
    "            new_state[r,c]=0\n",
    "    \n",
    "    return new_state"
   ]
  },
  {
   "cell_type": "code",
   "execution_count": 7,
   "id": "fe73f9df-a487-4ed4-b09a-d578fab80326",
   "metadata": {},
   "outputs": [],
   "source": [
    "def show_state(state):\n",
    "    print(state)"
   ]
  },
  {
   "cell_type": "code",
   "execution_count": 8,
   "id": "6f4e50cf-0812-47c7-ab54-316d85ddab94",
   "metadata": {},
   "outputs": [],
   "source": [
    "def valid_moves(state,player):\n",
    "    moves=[]\n",
    "    for location in range(20):\n",
    "        if state[location]==1:\n",
    "            moves.append(location)\n",
    "    return moves"
   ]
  },
  {
   "cell_type": "code",
   "execution_count": 9,
   "id": "d39e4d8a-1cd5-4515-a63f-a675e30b1ce2",
   "metadata": {},
   "outputs": [],
   "source": [
    "def win_status(state,player):\n",
    "    if state[0]==0:\n",
    "        return \"lose\""
   ]
  },
  {
   "cell_type": "code",
   "execution_count": 10,
   "id": "68fb926b-8fb1-449d-b37e-08e0abec7326",
   "metadata": {},
   "outputs": [],
   "source": [
    "def random_move(state,player):\n",
    "    moves=valid_moves(state,player)\n",
    "    moves.remove(0)\n",
    "\n",
    "    if not moves:\n",
    "        return 0\n",
    "    else:\n",
    "        return random.choice(moves)"
   ]
  },
  {
   "cell_type": "code",
   "execution_count": 11,
   "id": "f0ced3f9-8948-485e-b2ca-e166c63515d0",
   "metadata": {},
   "outputs": [],
   "source": [
    "def human_move(state,player):\n",
    "    \n",
    "    state.show_locations()\n",
    "    move=int(input(\"What square do you want to eat?\"))\n",
    "    \n",
    "    \n",
    "    return move\n",
    "random_agent=Agent(random_move)\n",
    "human_agent=Agent(human_move)"
   ]
  },
  {
   "cell_type": "code",
   "execution_count": 12,
   "id": "8a5e299b-dede-493e-940e-6514994ef8ba",
   "metadata": {},
   "outputs": [],
   "source": [
    "from Game.minimax import*\n",
    "def minimax_move(state,player):\n",
    "    values,moves=minimax_values(state,player,display=True)\n",
    "    return top_choice(moves,values)\n",
    "\n",
    "minimax_agent=Agent(minimax_move)"
   ]
  },
  {
   "cell_type": "code",
   "execution_count": 13,
   "id": "612a7dcf-7576-48c2-a150-54b682cf2662",
   "metadata": {},
   "outputs": [],
   "source": [
    "def skittles_move(state, player, info):\n",
    "    T=info.T\n",
    "    last_state=info.last_state\n",
    "    last_action=info.last_action\n",
    "    learning=info.learning\n",
    "    if state not in T:\n",
    "        actions=valid_moves(state,player)\n",
    "        T[state]=Table()\n",
    "        for action in actions:\n",
    "            T[state][action]=2 #initial number of skittles\n",
    "    \n",
    "    move=weighted_choice(T[state])\n",
    "    \n",
    "    if move is None:\n",
    "        # learn\n",
    "        if learning:\n",
    "            if last_state:\n",
    "                T[last_state][last_action]-=1 #take away a skittle\n",
    "                if T[last_state][last_action]<0:\n",
    "                    T[last_state][last_action]=0\n",
    "        \n",
    "        return random_move(state,player)\n",
    "    else:\n",
    "        return move"
   ]
  },
  {
   "cell_type": "code",
   "execution_count": 14,
   "id": "b319dd42-e439-4fd4-906a-e03c060031df",
   "metadata": {},
   "outputs": [],
   "source": [
    "def skittles_after(status,player,info):\n",
    "    #not return anything but\n",
    "    #will adjust the skittles table if lost the game\n",
    "    T=info.T\n",
    "    last_state=info.last_state\n",
    "    last_action=info.last_action\n",
    "    learning=info.learning\n",
    "    if status=='lose':\n",
    "        T[last_state][last_action]-=1 #take away a skittle\n",
    "        if T[last_state][last_action]<0:\n",
    "            T[last_state][last_action]=0"
   ]
  },
  {
   "cell_type": "code",
   "execution_count": 15,
   "id": "9fe81c76-e331-4b87-95ce-e76110d5de17",
   "metadata": {},
   "outputs": [],
   "source": [
    "def Q_move(state,player,info):\n",
    "    Q=info.Q\n",
    "    last_state=info.last_state\n",
    "    last_action=info.last_action\n",
    "    learning=info.learning\n",
    "    \n",
    "    α=info.α  # learning rate\n",
    "    ϵ=info.ϵ  # how often to take a random move\n",
    "    γ=info.γ  # memory constant -- how quickly does the table update back in time (earlier in the game)\n",
    "    \n",
    "    # \\alpha <hit tab>    α\n",
    "    # \\epsilon <hit tab>  ϵ\n",
    "    # \\gamma <hit tab>    γ\n",
    "    \n",
    "    if state not in Q:\n",
    "        actions=valid_moves(state,player)\n",
    "        Q[state]=Table()\n",
    "        for action in actions:\n",
    "            Q[state][action]=0  # initial value of table\n",
    "    \n",
    "    \n",
    "    if random.random()<ϵ:  # take a random move occasionally to explore the environment\n",
    "        move=random_move(state,player)\n",
    "    else:\n",
    "        move=top_choice(Q[state])\n",
    "    \n",
    "    if not last_action is None:  # not the first move\n",
    "        reward=0\n",
    "        \n",
    "        # learn\n",
    "        if learning:\n",
    "            Q[last_state][last_action]+=α*(reward +\n",
    "                        γ*max([Q[state][a] for a in Q[state]]) - Q[last_state][last_action])\n",
    "    \n",
    "    return move"
   ]
  },
  {
   "cell_type": "code",
   "execution_count": 16,
   "id": "fa000ca7-3b0b-4401-a749-dcc2009e42e3",
   "metadata": {},
   "outputs": [],
   "source": [
    "def Q_after(status,player,info):\n",
    "    Q=info.Q\n",
    "    last_state=info.last_state\n",
    "    last_action=info.last_action\n",
    "    learning=info.learning\n",
    "    \n",
    "    α=info.α  # learning rate\n",
    "    ϵ=info.ϵ  # how often to take a random move\n",
    "    γ=info.γ  # memory constant -- how quickly does the table update back in time (earlier in the game)\n",
    "    \n",
    "    # \\alpha <hit tab>    α\n",
    "    # \\epsilon <hit tab>  ϵ\n",
    "    # \\gamma <hit tab>    γ\n",
    "\n",
    "    if status=='lose':\n",
    "        reward=-1\n",
    "    elif status=='win':\n",
    "        reward=1\n",
    "    elif status=='stalemate':\n",
    "        reward=.5 # value stalemate a little closer to a win\n",
    "    else:\n",
    "        reward=0\n",
    "    \n",
    "    \n",
    "    if learning:\n",
    "        Q[last_state][last_action]+=α*(reward - Q[last_state][last_action])"
   ]
  },
  {
   "cell_type": "code",
   "execution_count": 17,
   "id": "bf387cfd-2b21-4cc6-8a1e-a709c9e75e57",
   "metadata": {},
   "outputs": [],
   "source": [
    "def build(robot):\n",
    "    Box(robot,x=5,y=8,width=2,height=30,name=\"Bar\")\n",
    "    \n",
    "#     left=Box(robot,x=x-2,y=y,width=.1,height=3,name=\"left\")\n",
    "#     right=Box(robot,x=x+2,y=y,width=.1,height=3,name=\"right\")\n",
    "#     connect(disk_center,left,'weld')\n",
    "#     connect(disk_center,right,'weld')\n",
    "    \n",
    "    \n",
    "    \n",
    "    robot.boxes=[]\n",
    "    y=24\n",
    "    for i in range(4):\n",
    "        y+=6.45\n",
    "        box=Box(robot,x=85,y=y,width=3,height=3,angle=180,name=\"Box %d\" % i)\n",
    "        robot.boxes.append(box)\n"
   ]
  },
  {
   "cell_type": "code",
   "execution_count": 18,
   "id": "78236f90-5b90-44a8-96d0-31a96072743f",
   "metadata": {},
   "outputs": [],
   "source": [
    "def forward(t,robot):\n",
    "    for disk in robot.boxes:\n",
    "        disk.F=0\n",
    "    robot['disk 0'].F=10\n",
    "    return True"
   ]
  },
  {
   "cell_type": "code",
   "execution_count": 19,
   "id": "e7472d3b-58b2-42bf-a399-9ee22a0d4860",
   "metadata": {},
   "outputs": [],
   "source": [
    "def wait2(t,robot):\n",
    "    if t>2:\n",
    "        return True"
   ]
  },
  {
   "cell_type": "code",
   "execution_count": 20,
   "id": "03e569be-9287-499e-bdfa-114f27e4a59f",
   "metadata": {},
   "outputs": [],
   "source": [
    "def wait3(t,robot):\n",
    "    if t>3:\n",
    "        return True"
   ]
  },
  {
   "cell_type": "code",
   "execution_count": 21,
   "id": "0ef9868b-7216-4302-a56e-c6a340c04330",
   "metadata": {},
   "outputs": [],
   "source": [
    "def up(t,robot):\n",
    "    for box in robot.box:\n",
    "        box.F=0\n",
    "        \n",
    "    robot['disk 90'].F=10\n",
    "    return True"
   ]
  },
  {
   "cell_type": "code",
   "execution_count": 22,
   "id": "186f4326-f356-49a4-8f86-0598c314842f",
   "metadata": {},
   "outputs": [],
   "source": [
    "def monitor(t,robot):\n",
    "    robot.message=t"
   ]
  },
  {
   "cell_type": "code",
   "execution_count": 23,
   "id": "88d58c53-6d12-4a27-8e7c-9055dcca64b2",
   "metadata": {},
   "outputs": [],
   "source": [
    "def turn_green(t,robot):\n",
    "    robot.color='g'\n",
    "    return True"
   ]
  },
  {
   "cell_type": "code",
   "execution_count": 24,
   "id": "f9dd4fc5-a46f-4959-8160-cfa8abc8e2ac",
   "metadata": {},
   "outputs": [],
   "source": [
    "def turn_red(t,robot):\n",
    "    robot.color='r'\n",
    "    return True"
   ]
  },
  {
   "cell_type": "code",
   "execution_count": 25,
   "id": "052fb24d-6dde-49db-886c-539113236c5a",
   "metadata": {},
   "outputs": [],
   "source": [
    "def turn_purple(t,robot):\n",
    "    robot.color='purple'\n",
    "    return True"
   ]
  },
  {
   "cell_type": "code",
   "execution_count": 26,
   "id": "7e5b58de-253e-4863-8c64-7d08b5e31256",
   "metadata": {},
   "outputs": [],
   "source": [
    "def read_distances(t,robot):\n",
    "    robot.box_distances=[box.read_distance() for box in robot.boxes]\n",
    "    state=Board(5,4)\n",
    "    return True"
   ]
  },
  {
   "cell_type": "code",
   "execution_count": 31,
   "id": "a10c3224-19ad-44ea-95bc-40dd21f1e5f0",
   "metadata": {},
   "outputs": [],
   "source": [
    "def get_move(t,robot):\n",
    "    state=Board(5,4)\n",
    "    robot.state=state\n",
    "    robot.move=minimax_move(state,1)\n",
    "    return True"
   ]
  },
  {
   "cell_type": "code",
   "execution_count": 28,
   "id": "4eda99fe-cc76-436a-bdb6-abdb4492ecd8",
   "metadata": {},
   "outputs": [],
   "source": [
    "def set_move(t,robot):\n",
    "    count=0\n",
    "    for distance in robot.box_distances:\n",
    "        if distance<20:\n",
    "            count+=1\n",
    "            \n",
    "    robot.count=count\n",
    "    robot.move=(count-1)%4\n",
    "    if robot.move==0:\n",
    "        robot.move=1\n",
    "        \n",
    "    return True"
   ]
  },
  {
   "cell_type": "code",
   "execution_count": 29,
   "id": "d0421624-b42c-4ddc-92ee-facb8c27ed09",
   "metadata": {},
   "outputs": [],
   "source": [
    "def make_move(t,robot):\n",
    "    move=robot.move\n",
    "    \n",
    "    if move==4 and robot.state[3]:  # something in location 3\n",
    "        return appear_at_4\n",
    "    else:\n",
    "        return forward_state_machines[move]\n"
   ]
  },
  {
   "cell_type": "code",
   "execution_count": null,
   "id": "ae6abfb2-7eb7-4e73-80ce-70ea65bebcf4",
   "metadata": {},
   "outputs": [],
   "source": []
  }
 ],
 "metadata": {
  "kernelspec": {
   "display_name": "Python 3",
   "language": "python",
   "name": "python3"
  },
  "language_info": {
   "codemirror_mode": {
    "name": "ipython",
    "version": 3
   },
   "file_extension": ".py",
   "mimetype": "text/x-python",
   "name": "python",
   "nbconvert_exporter": "python",
   "pygments_lexer": "ipython3",
   "version": "3.8.8"
  }
 },
 "nbformat": 4,
 "nbformat_minor": 5
}
