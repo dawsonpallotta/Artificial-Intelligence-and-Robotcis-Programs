{
 "cells": [
  {
   "cell_type": "code",
   "execution_count": 1,
   "id": "1bd0aa64-d729-4c20-97ee-4fd3edc9bcb7",
   "metadata": {},
   "outputs": [
    {
     "name": "stdout",
     "output_type": "stream",
     "text": [
      "Collecting git+git://github.com/bblais/Game\n",
      "  Cloning git://github.com/bblais/Game to c:\\users\\student\\appdata\\local\\temp\\pip-req-build-fqihoez1\n"
     ]
    },
    {
     "name": "stderr",
     "output_type": "stream",
     "text": [
      "  Running command git clone -q git://github.com/bblais/Game 'C:\\Users\\student\\AppData\\Local\\Temp\\pip-req-build-fqihoez1'\n"
     ]
    }
   ],
   "source": [
    "!pip install \"git+git://github.com/bblais/Game\" --upgrade"
   ]
  },
  {
   "cell_type": "code",
   "execution_count": 2,
   "id": "a8960c66-f470-4bfb-b060-cbde4764d13b",
   "metadata": {},
   "outputs": [
    {
     "name": "stdout",
     "output_type": "stream",
     "text": [
      "Version:  0.2.35\n"
     ]
    }
   ],
   "source": [
    "from Game import*"
   ]
  },
  {
   "cell_type": "code",
   "execution_count": 3,
   "id": "4dc75f51-a868-453c-9156-b6ea966dc2ae",
   "metadata": {},
   "outputs": [
    {
     "data": {
      "text/plain": [
       "\u001b[1;31mInit signature:\u001b[0m \u001b[0mCard\u001b[0m\u001b[1;33m(\u001b[0m\u001b[0mrank\u001b[0m\u001b[1;33m,\u001b[0m \u001b[0msuit\u001b[0m\u001b[1;33m)\u001b[0m\u001b[1;33m\u001b[0m\u001b[1;33m\u001b[0m\u001b[0m\n",
       "\u001b[1;31mDocstring:\u001b[0m      <no docstring>\n",
       "\u001b[1;31mFile:\u001b[0m           c:\\users\\student\\anaconda3\\lib\\site-packages\\game\\cards.py\n",
       "\u001b[1;31mType:\u001b[0m           type\n",
       "\u001b[1;31mSubclasses:\u001b[0m     \n"
      ]
     },
     "metadata": {},
     "output_type": "display_data"
    }
   ],
   "source": [
    "Card?"
   ]
  },
  {
   "cell_type": "code",
   "execution_count": 4,
   "id": "6b6775dd-256e-4bec-b758-f4441907dd8b",
   "metadata": {},
   "outputs": [
    {
     "data": {
      "text/plain": [
       "['JC',\n",
       " 'AD',\n",
       " '5H',\n",
       " '2D',\n",
       " '6S',\n",
       " '6D',\n",
       " 'QS',\n",
       " '3H',\n",
       " '6C',\n",
       " '8S',\n",
       " '10H',\n",
       " 'KS',\n",
       " '2H',\n",
       " 'AH',\n",
       " '7C',\n",
       " '3C',\n",
       " '7S',\n",
       " '9C',\n",
       " '8C',\n",
       " '3D',\n",
       " '9H',\n",
       " 'AS',\n",
       " '2S',\n",
       " '4H',\n",
       " '3S',\n",
       " 'JS',\n",
       " 'KD',\n",
       " '5D',\n",
       " '10D',\n",
       " 'QC',\n",
       " '7H',\n",
       " '4S',\n",
       " 'KC',\n",
       " '2C',\n",
       " '5S',\n",
       " 'KH',\n",
       " '10C',\n",
       " '4C',\n",
       " '9D',\n",
       " '8D',\n",
       " '7D',\n",
       " 'JD',\n",
       " '6H',\n",
       " '5C',\n",
       " '10S',\n",
       " '4D',\n",
       " '8H',\n",
       " 'QD',\n",
       " 'JH',\n",
       " 'AC',\n",
       " 'QH',\n",
       " '9S']"
      ]
     },
     "execution_count": 4,
     "metadata": {},
     "output_type": "execute_result"
    }
   ],
   "source": [
    "deck=makedeck()\n",
    "deck"
   ]
  },
  {
   "cell_type": "code",
   "execution_count": 5,
   "id": "57ad33a5-3dd3-44c1-831f-091308cba38f",
   "metadata": {},
   "outputs": [
    {
     "name": "stdout",
     "output_type": "stream",
     "text": [
      "<module 'Game.cards' from 'C:\\\\Users\\\\student\\\\anaconda3\\\\lib\\\\site-packages\\\\Game\\\\cards.py'>\n",
      "52 ['JC', 'AD', '5H', '2D', '6S', '6D', 'QS', '3H', '6C', '8S', '10H', 'KS', '2H', 'AH', '7C', '3C', '7S', '9C', '8C', '3D', '9H', 'AS', '2S', '4H', '3S', 'JS', 'KD', '5D', '10D', 'QC', '7H', '4S', 'KC', '2C', '5S', 'KH', '10C', '4C', '9D', '8D', '7D', 'JD', '6H', '5C', '10S', '4D', '8H', 'QD', 'JH', 'AC', 'QH', '9S']\n"
     ]
    }
   ],
   "source": [
    "print(cards)\n",
    "print(len(deck),deck)"
   ]
  },
  {
   "cell_type": "code",
   "execution_count": 6,
   "id": "e9bd602c-0d7c-4fb9-a4fc-860ff91a7c24",
   "metadata": {},
   "outputs": [],
   "source": [
    "def valid_moves(state,player):\n",
    "    return[\"hit\",\"stay\"]\n",
    "\n",
    "def initial_state():\n",
    "    state = []\n",
    "    player1=deal(deck,2)\n",
    "    state.append(player1)\n",
    "    dealer=deal(deck,1)\n",
    "    state.append(dealer)\n",
    "    return state"
   ]
  },
  {
   "cell_type": "code",
   "execution_count": 7,
   "id": "5bdf629b-0247-4eb4-885a-7502cb3c7bfe",
   "metadata": {},
   "outputs": [
    {
     "data": {
      "text/plain": [
       "[['JC', 'AD'], ['5H']]"
      ]
     },
     "execution_count": 7,
     "metadata": {},
     "output_type": "execute_result"
    }
   ],
   "source": [
    "state = initial_state()\n",
    "state"
   ]
  },
  {
   "cell_type": "code",
   "execution_count": 51,
   "id": "88ee03f3-efae-4515-843e-7ef885f0c765",
   "metadata": {},
   "outputs": [],
   "source": [
    "def show_state(state):\n",
    "    print(\"The players hands are\",state)"
   ]
  },
  {
   "cell_type": "code",
   "execution_count": 52,
   "id": "4ea1939e-cd97-449a-9cee-6947f7a24b86",
   "metadata": {},
   "outputs": [
    {
     "name": "stdout",
     "output_type": "stream",
     "text": [
      "The players hands are [['JC', 'AD'], ['5H']]\n"
     ]
    }
   ],
   "source": [
    "show_state(state)"
   ]
  },
  {
   "cell_type": "code",
   "execution_count": 67,
   "id": "7cdb95ee-0e0d-4fa7-8ae7-c12670a24f27",
   "metadata": {},
   "outputs": [],
   "source": [
    "def update_state(state,move,player):\n",
    "    new_state=state\n",
    "    player_total, dealer_total, turn_total, =state\n",
    "    \n",
    "    if move==\"hit\":\n",
    "        card=deal(deck,1)\n",
    "        \n",
    "    else:\n",
    "        if player==1:\n",
    "            new_state[0]+=turn_total\n",
    "        else:\n",
    "            new_state[1]+=turn_total\n",
    "    if move==\"stay\":\n",
    "        return True\n",
    "            "
   ]
  },
  {
   "cell_type": "code",
   "execution_count": 68,
   "id": "52d05667-4af8-4552-ab52-f5c47f163db0",
   "metadata": {},
   "outputs": [],
   "source": [
    "def win_status(state,player):\n",
    "    max_score=21\n",
    "    \n",
    "    if player==1:\n",
    "        if player_total>max_score:\n",
    "            return \"lose\"\n",
    "    elif player==2:\n",
    "        if dealer_total>max_score:\n",
    "            return \"lose\"\n",
    "    elif player==1:\n",
    "        if player_total<dealer_total:\n",
    "            return \"lose\"\n",
    "    elif player==2:\n",
    "        if dealer_total<player_total:\n",
    "            return \"lose\"\n",
    "    elif player==1:\n",
    "        if player_total>dealer_total and player_total>max_score:\n",
    "            return \"lose\"\n",
    "    elif player==2:\n",
    "        if dealer_total>player_total and dealer_total>max_score:\n",
    "            return \"lose\"\n",
    "    elif player==1:\n",
    "        if player_total>dealer_total and player_total<=max_score:\n",
    "            return \"win\"\n",
    "    elif player==2:\n",
    "        if dealer_total>player_total and dealer_total<=max_score:\n",
    "            return \"win\"\n",
    "    else:\n",
    "        if dealer_total==player_total and dealer_total<=max_score and player_total<=max_score:\n",
    "            return \"tie\"\n",
    "    "
   ]
  },
  {
   "cell_type": "code",
   "execution_count": 69,
   "id": "f7392598-19d6-40a1-b9af-961b5190e306",
   "metadata": {},
   "outputs": [],
   "source": [
    "def score(cards):\n",
    "    \n",
    "    total=0\n",
    "    for card in cards:\n",
    "        \n",
    "        if card.rank==13 or card.rank==12 or card.rank==11:\n",
    "            total+=10\n",
    "        else:\n",
    "            total+=card.rank\n",
    "    \n",
    "    return total"
   ]
  },
  {
   "cell_type": "code",
   "execution_count": 70,
   "id": "e0b0893f-6264-4592-b046-002ab3d3c7f4",
   "metadata": {},
   "outputs": [],
   "source": [
    "def human_move(state,player):\n",
    "    print(\"Player\", player)\n",
    "    s=input(\"hit or stay?\")\n",
    "    \n",
    "    if s[0]=='h':\n",
    "        return \"hit\"\n",
    "    elif s[0]=='s':\n",
    "        return \"stay\"\n",
    "\n",
    "human_agent=Agent(human_move)"
   ]
  },
  {
   "cell_type": "code",
   "execution_count": 71,
   "id": "680fbffa-10e3-428e-8394-66ea0471cae1",
   "metadata": {},
   "outputs": [],
   "source": [
    "def random_move(state,player):\n",
    "    move=random.choice(valid_moves(state,player))\n",
    "    return move\n",
    "\n",
    "random_agent=Agent(random_move)"
   ]
  },
  {
   "cell_type": "code",
   "execution_count": 72,
   "id": "efdd0b70-7fb7-4933-b56c-da7e22782a5e",
   "metadata": {},
   "outputs": [],
   "source": [
    "from Game.minimax import *\n",
    "def minimax_move(state,player):\n",
    "    values,moves=minimax_values(state,player,display=True)\n",
    "    return top_choice(moves,values)\n",
    "\n",
    "minimax_agent=Agent(minimax_move)"
   ]
  },
  {
   "cell_type": "code",
   "execution_count": 73,
   "id": "67e2e6e8-cc65-4cb4-b375-c78d1460f8ea",
   "metadata": {},
   "outputs": [],
   "source": [
    "def skittles_move(state,player,info):\n",
    "    T=info.T\n",
    "    last_state=info.last_state\n",
    "    last_action=info.last_action\n",
    "    learning=info.learning\n",
    "    \n",
    "    if state not in T:\n",
    "        actions=valid_moves(state,player)\n",
    "        T[state]=Table()\n",
    "        for action in actions:\n",
    "            T[state][action]=2 \n",
    "    \n",
    "    move=weighted_choice(T[state])\n",
    "    \n",
    "    if move is None:\n",
    "        \n",
    "        # learn\n",
    "        if learning:\n",
    "            if last_state:\n",
    "                T[last_state][last_action]-=1.\n",
    "                if T[last_state][last_action]<0:\n",
    "                    T[last_state][last_action]=0\n",
    "        \n",
    "        return random_move(state,player)\n",
    "    else:\n",
    "        return move"
   ]
  },
  {
   "cell_type": "code",
   "execution_count": 74,
   "id": "8be907bb-404c-478d-8ecf-be86d70540b0",
   "metadata": {},
   "outputs": [],
   "source": [
    "def skittles_after(status,player,info):\n",
    "    T=info.T\n",
    "    last_state=info.last_state\n",
    "    last_action=info.last_action\n",
    "    learning=info.learning\n",
    "    \n",
    "    if status=='lose': \n",
    "        T[last_state][last_action]-=1. \n",
    "        if T[last_state][last_action]<0:\n",
    "            T[last_state][last_action]=0\n",
    "    pass"
   ]
  },
  {
   "cell_type": "code",
   "execution_count": 75,
   "id": "611f0b51-89b0-467f-9b95-d507155e83f8",
   "metadata": {},
   "outputs": [],
   "source": [
    "skittles_agent=Agent(skittles_move)\n",
    "skittles_agent.post=skittles_after\n",
    "skittles_agent.T=Table()   \n",
    "skittles_agent.learning=True"
   ]
  },
  {
   "cell_type": "code",
   "execution_count": 76,
   "id": "9d4bd377-056d-4b7e-ac2b-c6c9b3047cdc",
   "metadata": {},
   "outputs": [],
   "source": [
    "def Q_move(state,player,info):\n",
    "    Q=info.Q\n",
    "    last_state=info.last_state\n",
    "    last_action=info.last_action\n",
    "    learning=info.learning\n",
    "    \n",
    "    α=info.α \n",
    "    ϵ=info.ϵ \n",
    "    γ=info.γ \n",
    "    \n",
    "    # \\alpha <hit tab>    α\n",
    "    # \\epsilon <hit tab>  ϵ\n",
    "    # \\gamma <hit tab>    γ\n",
    "    \n",
    "    if state not in Q:\n",
    "        actions=valid_moves(state,player)\n",
    "        Q[state]=Table()\n",
    "        for action in actions:\n",
    "            Q[state][action]=0  \n",
    "    \n",
    "    \n",
    "    if random.random()<ϵ:  \n",
    "        move=random_move(state,player)\n",
    "    else:\n",
    "        move=top_choice(Q[state])\n",
    "    \n",
    "    if not last_action is None:  \n",
    "        reward=0\n",
    "        \n",
    "        # learn\n",
    "        if learning:\n",
    "            Q[last_state][last_action]+=α*(reward +\n",
    "                        γ*max([Q[state][a] for a in Q[state]]) - Q[last_state][last_action])\n",
    "    return move"
   ]
  },
  {
   "cell_type": "code",
   "execution_count": 77,
   "id": "032e74e6-d682-441f-ae99-79a0f8677567",
   "metadata": {},
   "outputs": [],
   "source": [
    "def Q_after(status,player,info):\n",
    "    Q=info.Q\n",
    "    last_state=info.last_state\n",
    "    last_action=info.last_action\n",
    "    learning=info.learning\n",
    "    \n",
    "    α=info.α  \n",
    "    ϵ=info.ϵ  \n",
    "    γ=info.γ  \n",
    "    \n",
    "    # \\alpha <hit tab>    α\n",
    "    # \\epsilon <hit tab>  ϵ\n",
    "    # \\gamma <hit tab>    γ\n",
    "\n",
    "    if status=='lose':\n",
    "        reward=-1\n",
    "    elif status=='win':\n",
    "        reward=1\n",
    "    elif status=='stalemate':\n",
    "        reward=.5 \n",
    "    else:\n",
    "        reward=0\n",
    "    \n",
    "    \n",
    "    if learning:\n",
    "        Q[last_state][last_action]+=α*(reward - Q[last_state][last_action])"
   ]
  },
  {
   "cell_type": "code",
   "execution_count": 78,
   "id": "ff31cbf7-7998-4bde-9bc3-87259d8c60d0",
   "metadata": {},
   "outputs": [],
   "source": [
    "Q1_agent=Agent(Q_move)\n",
    "Q1_agent.post=Q_after\n",
    "Q1_agent.Q=Table() \n",
    "Q1_agent.learning=True\n",
    "\n",
    "Q1_agent.α=0.3  \n",
    "Q1_agent.ϵ=0.1  \n",
    "Q1_agent.γ=0.9  "
   ]
  },
  {
   "cell_type": "code",
   "execution_count": 79,
   "id": "e1c973df-1d00-48ae-bd00-143c9a2fb4c6",
   "metadata": {},
   "outputs": [],
   "source": [
    "Q2_agent=Agent(Q_move)\n",
    "Q2_agent.post=Q_after\n",
    "Q2_agent.Q=Table()  \n",
    "Q2_agent.learning=True\n",
    "\n",
    "Q2_agent.α=0.3  \n",
    "Q2_agent.ϵ=0.1  \n",
    "Q2_agent.γ=0.9 "
   ]
  },
  {
   "cell_type": "code",
   "execution_count": 81,
   "id": "5c3fcecc-a080-4ff5-b628-6ab9772abece",
   "metadata": {},
   "outputs": [
    {
     "name": "stdout",
     "output_type": "stream",
     "text": [
      "====\n",
      "Game  1\n",
      "The players hands are [['8C', '3D'], ['9H']]\n",
      "Player 1\n"
     ]
    },
    {
     "name": "stdin",
     "output_type": "stream",
     "text": [
      "hit or stay? hit\n"
     ]
    },
    {
     "name": "stdout",
     "output_type": "stream",
     "text": [
      "Player 1 moves hit\n"
     ]
    },
    {
     "ename": "ValueError",
     "evalue": "not enough values to unpack (expected 3, got 2)",
     "output_type": "error",
     "traceback": [
      "\u001b[1;31m---------------------------------------------------------------------------\u001b[0m",
      "\u001b[1;31mValueError\u001b[0m                                Traceback (most recent call last)",
      "\u001b[1;32m<ipython-input-81-0285cbb79215>\u001b[0m in \u001b[0;36m<module>\u001b[1;34m\u001b[0m\n\u001b[0;32m      1\u001b[0m \u001b[0mg\u001b[0m\u001b[1;33m=\u001b[0m\u001b[0mGame\u001b[0m\u001b[1;33m(\u001b[0m\u001b[1;33m)\u001b[0m\u001b[1;33m\u001b[0m\u001b[1;33m\u001b[0m\u001b[0m\n\u001b[1;32m----> 2\u001b[1;33m \u001b[0mg\u001b[0m\u001b[1;33m.\u001b[0m\u001b[0mrun\u001b[0m\u001b[1;33m(\u001b[0m\u001b[0mhuman_agent\u001b[0m\u001b[1;33m,\u001b[0m\u001b[0mhuman_agent\u001b[0m\u001b[1;33m)\u001b[0m\u001b[1;33m\u001b[0m\u001b[1;33m\u001b[0m\u001b[0m\n\u001b[0m",
      "\u001b[1;32m~\\anaconda3\\lib\\site-packages\\Game\\game.py\u001b[0m in \u001b[0;36mrun\u001b[1;34m(self, agent1, agent2)\u001b[0m\n\u001b[0;32m    354\u001b[0m                 \u001b[0mvisited_states\u001b[0m\u001b[1;33m[\u001b[0m\u001b[0mplayer\u001b[0m\u001b[1;33m]\u001b[0m\u001b[1;33m.\u001b[0m\u001b[0mappend\u001b[0m\u001b[1;33m(\u001b[0m\u001b[0mdeepcopy\u001b[0m\u001b[1;33m(\u001b[0m\u001b[0mself\u001b[0m\u001b[1;33m.\u001b[0m\u001b[0mstate\u001b[0m\u001b[1;33m)\u001b[0m\u001b[1;33m)\u001b[0m\u001b[1;33m\u001b[0m\u001b[1;33m\u001b[0m\u001b[0m\n\u001b[0;32m    355\u001b[0m \u001b[1;33m\u001b[0m\u001b[0m\n\u001b[1;32m--> 356\u001b[1;33m                 \u001b[0mnew_state\u001b[0m\u001b[1;33m=\u001b[0m\u001b[0mself\u001b[0m\u001b[1;33m.\u001b[0m\u001b[0mupdate_state\u001b[0m\u001b[1;33m(\u001b[0m\u001b[0mdeepcopy\u001b[0m\u001b[1;33m(\u001b[0m\u001b[0mself\u001b[0m\u001b[1;33m.\u001b[0m\u001b[0mstate\u001b[0m\u001b[1;33m)\u001b[0m\u001b[1;33m,\u001b[0m\u001b[0mplayer\u001b[0m\u001b[1;33m,\u001b[0m\u001b[0mmove\u001b[0m\u001b[1;33m)\u001b[0m\u001b[1;33m\u001b[0m\u001b[1;33m\u001b[0m\u001b[0m\n\u001b[0m\u001b[0;32m    357\u001b[0m                 \u001b[1;32mif\u001b[0m \u001b[0mnew_state\u001b[0m \u001b[1;32mis\u001b[0m \u001b[1;32mNone\u001b[0m\u001b[1;33m:\u001b[0m\u001b[1;33m\u001b[0m\u001b[1;33m\u001b[0m\u001b[0m\n\u001b[0;32m    358\u001b[0m                     \u001b[1;32mraise\u001b[0m \u001b[0mValueError\u001b[0m\u001b[1;33m(\u001b[0m\u001b[1;34m\"update_state returned None - Did you forget to return the state?\"\u001b[0m\u001b[1;33m)\u001b[0m\u001b[1;33m\u001b[0m\u001b[1;33m\u001b[0m\u001b[0m\n",
      "\u001b[1;32m<ipython-input-67-cb152fd1c6f9>\u001b[0m in \u001b[0;36mupdate_state\u001b[1;34m(state, move, player)\u001b[0m\n\u001b[0;32m      1\u001b[0m \u001b[1;32mdef\u001b[0m \u001b[0mupdate_state\u001b[0m\u001b[1;33m(\u001b[0m\u001b[0mstate\u001b[0m\u001b[1;33m,\u001b[0m\u001b[0mmove\u001b[0m\u001b[1;33m,\u001b[0m\u001b[0mplayer\u001b[0m\u001b[1;33m)\u001b[0m\u001b[1;33m:\u001b[0m\u001b[1;33m\u001b[0m\u001b[1;33m\u001b[0m\u001b[0m\n\u001b[0;32m      2\u001b[0m     \u001b[0mnew_state\u001b[0m\u001b[1;33m=\u001b[0m\u001b[0mstate\u001b[0m\u001b[1;33m\u001b[0m\u001b[1;33m\u001b[0m\u001b[0m\n\u001b[1;32m----> 3\u001b[1;33m     \u001b[0mplayer_total\u001b[0m\u001b[1;33m,\u001b[0m \u001b[0mdealer_total\u001b[0m\u001b[1;33m,\u001b[0m \u001b[0mturn_total\u001b[0m\u001b[1;33m,\u001b[0m \u001b[1;33m=\u001b[0m\u001b[0mstate\u001b[0m\u001b[1;33m\u001b[0m\u001b[1;33m\u001b[0m\u001b[0m\n\u001b[0m\u001b[0;32m      4\u001b[0m \u001b[1;33m\u001b[0m\u001b[0m\n\u001b[0;32m      5\u001b[0m     \u001b[1;32mif\u001b[0m \u001b[0mmove\u001b[0m\u001b[1;33m==\u001b[0m\u001b[1;34m\"hit\"\u001b[0m\u001b[1;33m:\u001b[0m\u001b[1;33m\u001b[0m\u001b[1;33m\u001b[0m\u001b[0m\n",
      "\u001b[1;31mValueError\u001b[0m: not enough values to unpack (expected 3, got 2)"
     ]
    }
   ],
   "source": [
    "g=Game()\n",
    "g.run(human_agent,human_agent)"
   ]
  },
  {
   "cell_type": "code",
   "execution_count": null,
   "id": "44eeae22-18a3-4809-a81f-9431008ed9ab",
   "metadata": {},
   "outputs": [],
   "source": []
  },
  {
   "cell_type": "code",
   "execution_count": null,
   "id": "5324f7b0-a870-49f4-b69c-0b6c7cab2bf0",
   "metadata": {},
   "outputs": [],
   "source": []
  },
  {
   "cell_type": "code",
   "execution_count": null,
   "id": "6dd46433-355d-4544-820f-e342a5f4c788",
   "metadata": {},
   "outputs": [],
   "source": []
  }
 ],
 "metadata": {
  "kernelspec": {
   "display_name": "Python 3",
   "language": "python",
   "name": "python3"
  },
  "language_info": {
   "codemirror_mode": {
    "name": "ipython",
    "version": 3
   },
   "file_extension": ".py",
   "mimetype": "text/x-python",
   "name": "python",
   "nbconvert_exporter": "python",
   "pygments_lexer": "ipython3",
   "version": "3.8.8"
  }
 },
 "nbformat": 4,
 "nbformat_minor": 5
}
