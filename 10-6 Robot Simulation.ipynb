{
 "cells": [
  {
   "cell_type": "code",
   "execution_count": 1,
   "id": "7c20ee21-aeeb-4744-905c-d80ff5ec0904",
   "metadata": {},
   "outputs": [
    {
     "name": "stdout",
     "output_type": "stream",
     "text": [
      "Requirement already satisfied: box2d in c:\\users\\student\\anaconda3\\lib\\site-packages (2.3.10)\n"
     ]
    }
   ],
   "source": [
    "!pip install box2d"
   ]
  },
  {
   "cell_type": "code",
   "execution_count": 2,
   "id": "18df7640-6669-4587-8100-81081ad41413",
   "metadata": {},
   "outputs": [
    {
     "name": "stdout",
     "output_type": "stream",
     "text": [
      "Collecting git+git://github.com/bblais/RobotSim373"
     ]
    },
    {
     "name": "stderr",
     "output_type": "stream",
     "text": [
      "  Running command git clone -q git://github.com/bblais/RobotSim373 'C:\\Users\\student\\AppData\\Local\\Temp\\pip-req-build-3k09utbc'\n"
     ]
    },
    {
     "name": "stdout",
     "output_type": "stream",
     "text": [
      "\n",
      "  Cloning git://github.com/bblais/RobotSim373 to c:\\users\\student\\appdata\\local\\temp\\pip-req-build-3k09utbc\n",
      "Requirement already satisfied: box2d in c:\\users\\student\\anaconda3\\lib\\site-packages (from RobotSim373==0.0.32) (2.3.10)\n",
      "Requirement already satisfied: matplotlib in c:\\users\\student\\anaconda3\\lib\\site-packages (from RobotSim373==0.0.32) (3.3.4)\n",
      "Requirement already satisfied: pyglet in c:\\users\\student\\anaconda3\\lib\\site-packages (from RobotSim373==0.0.32) (1.5.21)\n",
      "Requirement already satisfied: kiwisolver>=1.0.1 in c:\\users\\student\\anaconda3\\lib\\site-packages (from matplotlib->RobotSim373==0.0.32) (1.3.1)\n",
      "Requirement already satisfied: cycler>=0.10 in c:\\users\\student\\anaconda3\\lib\\site-packages (from matplotlib->RobotSim373==0.0.32) (0.10.0)\n",
      "Requirement already satisfied: pillow>=6.2.0 in c:\\users\\student\\anaconda3\\lib\\site-packages (from matplotlib->RobotSim373==0.0.32) (8.2.0)\n",
      "Requirement already satisfied: pyparsing!=2.0.4,!=2.1.2,!=2.1.6,>=2.0.3 in c:\\users\\student\\anaconda3\\lib\\site-packages (from matplotlib->RobotSim373==0.0.32) (2.4.7)\n",
      "Requirement already satisfied: numpy>=1.15 in c:\\users\\student\\anaconda3\\lib\\site-packages (from matplotlib->RobotSim373==0.0.32) (1.20.1)\n",
      "Requirement already satisfied: python-dateutil>=2.1 in c:\\users\\student\\anaconda3\\lib\\site-packages (from matplotlib->RobotSim373==0.0.32) (2.8.1)\n",
      "Requirement already satisfied: six in c:\\users\\student\\anaconda3\\lib\\site-packages (from cycler>=0.10->matplotlib->RobotSim373==0.0.32) (1.15.0)\n",
      "Building wheels for collected packages: RobotSim373\n",
      "  Building wheel for RobotSim373 (setup.py): started\n",
      "  Building wheel for RobotSim373 (setup.py): finished with status 'done'\n",
      "  Created wheel for RobotSim373: filename=RobotSim373-0.0.32-py3-none-any.whl size=8588 sha256=af5cdedbdaef33b19bd4372be9bf6d99f052d9a96bc5389c5415063b77a95124\n",
      "  Stored in directory: C:\\Users\\student\\AppData\\Local\\Temp\\pip-ephem-wheel-cache-jdmyjb86\\wheels\\53\\c2\\32\\0e474631c7e4eb80e15920a6a0dc4f1c9683cd981f31608cb8\n",
      "Successfully built RobotSim373\n",
      "Installing collected packages: RobotSim373\n",
      "  Attempting uninstall: RobotSim373\n",
      "    Found existing installation: RobotSim373 0.0.26\n",
      "    Uninstalling RobotSim373-0.0.26:\n",
      "      Successfully uninstalled RobotSim373-0.0.26\n",
      "Successfully installed RobotSim373-0.0.32\n"
     ]
    }
   ],
   "source": [
    "!pip install \"git+git://github.com/bblais/RobotSim373\" --upgrade"
   ]
  },
  {
   "cell_type": "code",
   "execution_count": null,
   "id": "3594d40d-1770-4879-9a28-7ba41ad5bbf8",
   "metadata": {},
   "outputs": [],
   "source": []
  }
 ],
 "metadata": {
  "kernelspec": {
   "display_name": "Python 3",
   "language": "python",
   "name": "python3"
  },
  "language_info": {
   "codemirror_mode": {
    "name": "ipython",
    "version": 3
   },
   "file_extension": ".py",
   "mimetype": "text/x-python",
   "name": "python",
   "nbconvert_exporter": "python",
   "pygments_lexer": "ipython3",
   "version": "3.8.8"
  }
 },
 "nbformat": 4,
 "nbformat_minor": 5
}
