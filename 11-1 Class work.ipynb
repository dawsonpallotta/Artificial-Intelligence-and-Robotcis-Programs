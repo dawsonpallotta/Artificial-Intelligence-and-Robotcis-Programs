{
 "cells": [
  {
   "cell_type": "code",
   "execution_count": null,
   "id": "b686dfde-adc0-4da5-a929-a7ee14326a3b",
   "metadata": {},
   "outputs": [],
   "source": [
    "def P(i,j,k,action=None):\n",
    "    # i = player score\n",
    "    # j = opponents score\n",
    "    # k = turn score\n",
    "    # action = \"roll\", \"hold\", None\n",
    "    \n",
    "    goal = 7\n",
    "    \n",
    "    if action is None:"
   ]
  }
 ],
 "metadata": {
  "kernelspec": {
   "display_name": "Python 3",
   "language": "python",
   "name": "python3"
  },
  "language_info": {
   "codemirror_mode": {
    "name": "ipython",
    "version": 3
   },
   "file_extension": ".py",
   "mimetype": "text/x-python",
   "name": "python",
   "nbconvert_exporter": "python",
   "pygments_lexer": "ipython3",
   "version": "3.8.8"
  }
 },
 "nbformat": 4,
 "nbformat_minor": 5
}
