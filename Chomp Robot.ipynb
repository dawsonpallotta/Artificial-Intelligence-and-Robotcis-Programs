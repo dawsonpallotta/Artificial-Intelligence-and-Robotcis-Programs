{
 "cells": [
  {
   "cell_type": "code",
   "execution_count": 94,
   "id": "b68dff10-a5b7-438a-8672-e6c1bf4a53e5",
   "metadata": {},
   "outputs": [
    {
     "name": "stdout",
     "output_type": "stream",
     "text": [
      "Populating the interactive namespace from numpy and matplotlib\n"
     ]
    }
   ],
   "source": [
    "%pylab inline"
   ]
  },
  {
   "cell_type": "code",
   "execution_count": 95,
   "id": "db1c369e-e79d-4e4e-8bf0-8e263b89fdba",
   "metadata": {},
   "outputs": [],
   "source": [
    "from RobotSim373 import *"
   ]
  },
  {
   "cell_type": "code",
   "execution_count": 96,
   "id": "4a033cb0-e01e-4f2f-baea-5f5bab685dc6",
   "metadata": {},
   "outputs": [],
   "source": [
    "def build(robot):\n",
    "    R=.5\n",
    "    r=R/5\n",
    "    \n",
    "    x=1\n",
    "    y=2\n",
    "    angle=0\n",
    "    disk_center=Disk(robot,x,y,radius=R,angle=angle,name='center')\n",
    "\n",
    "    disks=[]\n",
    "    for angle in range(0,360,30):\n",
    "        disk=Disk(robot,\n",
    "                          x+(R+1.1*r)*cos(radians(angle)),\n",
    "                          y+(R+1.1*r)*sin(radians(angle)),\n",
    "                 angle=angle,radius=r,\n",
    "                 name='disk %d' % angle)\n",
    "        disks.append(disk)\n",
    "\n",
    "    connect(disk_center,disks,'weld')\n",
    "    \n",
    "#     left=Box(robot,x=x-2,y=y,width=.1,height=3,name=\"left\")\n",
    "#     right=Box(robot,x=x+2,y=y,width=.1,height=3,name=\"right\")\n",
    "#     connect(disk_center,left,'weld')\n",
    "#     connect(disk_center,right,'weld')\n",
    "    \n",
    "    robot.disks=disks\n",
    "    robot.angles=list(range(0,360,30))\n",
    "    robot.distances=[-1]*len(disks)\n",
    "    \n",
    "    robot.boxes=[]\n",
    "    y=0\n",
    "    for i in range(4):\n",
    "        y+=5\n",
    "        box=Box(robot,x=24,y=y,width=.2,height=1,angle=180,name=\"Box %d\" % i)\n",
    "        robot.boxes.append(box)"
   ]
  },
  {
   "cell_type": "code",
   "execution_count": 97,
   "id": "1e906f74-1991-48a0-b306-892287e0e3b7",
   "metadata": {},
   "outputs": [],
   "source": [
    "def forward(t,robot):\n",
    "    for disk in robot.disks:\n",
    "        disk.F=0\n",
    "    robot['disk 0'].F=10\n",
    "    return True"
   ]
  },
  {
   "cell_type": "code",
   "execution_count": 98,
   "id": "79ec0533-6ce8-4eb2-af2b-edcc0067692c",
   "metadata": {},
   "outputs": [],
   "source": [
    "def wait2(t,robot):\n",
    "    if t>2:\n",
    "        return True"
   ]
  },
  {
   "cell_type": "code",
   "execution_count": 99,
   "id": "52c18aef-e123-4a0c-b846-09c44e1c89b8",
   "metadata": {},
   "outputs": [],
   "source": [
    "def wait3(t,robot):\n",
    "    if t>3:\n",
    "        return True"
   ]
  },
  {
   "cell_type": "code",
   "execution_count": 100,
   "id": "78fa0b63-56c9-43ac-9125-e1dee1b07ff7",
   "metadata": {},
   "outputs": [],
   "source": [
    "def up(t,robot):\n",
    "    for disk in robot.disks:\n",
    "        disk.F=0\n",
    "        \n",
    "    robot['disk 90'].F=10\n",
    "    return True"
   ]
  },
  {
   "cell_type": "code",
   "execution_count": 101,
   "id": "3d0ec476-1732-42d6-84e5-d73de88d3ff2",
   "metadata": {},
   "outputs": [],
   "source": [
    "def monitor(t,robot):\n",
    "    robot.message=t"
   ]
  },
  {
   "cell_type": "code",
   "execution_count": 102,
   "id": "9eb5c552-d89e-4473-a0d7-20b3b667ad11",
   "metadata": {},
   "outputs": [],
   "source": [
    "def turn_green(t,robot):\n",
    "    robot.color='g'\n",
    "    return True"
   ]
  },
  {
   "cell_type": "code",
   "execution_count": 103,
   "id": "cfa1c18a-c220-4dce-b818-115601340613",
   "metadata": {},
   "outputs": [],
   "source": [
    "def turn_red(t,robot):\n",
    "    robot.color='r'\n",
    "    return True"
   ]
  },
  {
   "cell_type": "code",
   "execution_count": 104,
   "id": "13dba01e-0737-432e-a110-7595db2c0d5b",
   "metadata": {},
   "outputs": [],
   "source": [
    "def turn_purple(t,robot):\n",
    "    robot.color='purple'\n",
    "    return True"
   ]
  },
  {
   "cell_type": "code",
   "execution_count": 105,
   "id": "bd5312d4-9f2e-412a-873e-9753cc71694f",
   "metadata": {},
   "outputs": [],
   "source": [
    "def read_distances(t,robot):\n",
    "    robot.distances=[disk.read_distance() for disk in robot.disks]\n",
    "    robot.box_distances=[box.read_distance() for box in robot.boxes]\n",
    "    return True"
   ]
  },
  {
   "cell_type": "code",
   "execution_count": 106,
   "id": "5887e913-1f78-4946-8ff1-bb0967a71213",
   "metadata": {},
   "outputs": [],
   "source": [
    "def set_move(t,robot):\n",
    "    count=0\n",
    "    for distance in robot.box_distances:\n",
    "        if distance<20:\n",
    "            count+=1\n",
    "            \n",
    "    robot.count=count\n",
    "    robot.move=(count-1)%4\n",
    "    if robot.move==0:\n",
    "        robot.move=1\n",
    "        \n",
    "    return True"
   ]
  },
  {
   "cell_type": "code",
   "execution_count": 107,
   "id": "e9b172f5-79db-4431-a3a9-e4af1d013909",
   "metadata": {},
   "outputs": [],
   "source": [
    "def until_piece_up(t,robot):\n",
    "    distance=robot['disk 90'].read_distance()\n",
    "    \n",
    "    if distance<10:\n",
    "        return True"
   ]
  },
  {
   "cell_type": "code",
   "execution_count": 108,
   "id": "6a961308-4bb6-4ad9-a197-93996c60c1c3",
   "metadata": {},
   "outputs": [],
   "source": [
    "def until_piece_up_or_wall(t,robot):\n",
    "    distance=robot['disk 90'].read_distance()\n",
    "    \n",
    "    if distance<10:\n",
    "        return True    \n",
    "    \n",
    "    distance=robot['disk 0'].read_distance()\n",
    "    \n",
    "    if distance<2:\n",
    "        return '_end_simulation'"
   ]
  },
  {
   "cell_type": "code",
   "execution_count": 109,
   "id": "135e2d97-9546-4d89-a765-c5aea9249bf4",
   "metadata": {},
   "outputs": [],
   "source": [
    "def until_not_piece_up(t,robot):\n",
    "    distance=robot['disk 90'].read_distance()\n",
    "    \n",
    "    if distance>10:\n",
    "        return True"
   ]
  },
  {
   "cell_type": "code",
   "execution_count": 110,
   "id": "32beb64d-b556-4216-a49d-a7c9d89098e8",
   "metadata": {},
   "outputs": [],
   "source": [
    "def move_pt5(t,robot):\n",
    "    \n",
    "    try:\n",
    "        traveled=robot['center'].x-robot.move_pt5_x\n",
    "    except AttributeError:  \n",
    "        robot.move_pt5_x=robot['center'].x\n",
    "        traveled=0.0\n",
    "        \n",
    "    if traveled>0.5:\n",
    "        del robot.move_pt5_x\n",
    "        return True"
   ]
  },
  {
   "cell_type": "code",
   "execution_count": 111,
   "id": "b02b4ac0-ab86-4b18-aa98-b22a37ec947a",
   "metadata": {},
   "outputs": [],
   "source": [
    "def launch(t,robot):\n",
    "    \n",
    "    disk=Box(robot,x=robot['center'].x,y=robot['center'].y+1,angle=90,width=0.5,height=0.5)\n",
    "    disk.F=10\n",
    "    \n",
    "    return True"
   ]
  },
  {
   "cell_type": "code",
   "execution_count": 112,
   "id": "4ee42d52-ae41-4195-b62e-a7349dfd764a",
   "metadata": {},
   "outputs": [],
   "source": [
    "def forward_to_move(t,robot):\n",
    "    for disk in robot.disks:\n",
    "        disk.F=0\n",
    "        \n",
    "    robot['disk 0'].F=10\n",
    "\n",
    "    target_box=robot.count-robot.move\n",
    "    target_x=robot.boxes[target_box].x-.4\n",
    "    \n",
    "    if robot['center'].x>=target_x:\n",
    "        return True"
   ]
  },
  {
   "cell_type": "code",
   "execution_count": 113,
   "id": "ca5a9c1f-3ea6-47e0-a511-2a1ba836ceef",
   "metadata": {},
   "outputs": [],
   "source": [
    "def until_turn_over(t,robot):\n",
    "    robot.move-=1\n",
    "    robot.color=f\"#{randint(0x1000000):06x}\"\n",
    "\n",
    "    if robot.move==0:\n",
    "        return \"_end_simulation\"\n",
    "    else:\n",
    "        return \"right\""
   ]
  },
  {
   "cell_type": "code",
   "execution_count": 114,
   "id": "354b9875-e6cf-4987-9569-8ffc36461937",
   "metadata": {},
   "outputs": [],
   "source": [
    "state_machine=StateMachine(\n",
    "    ([read_distances,set_move],\"forward_to_move\"),\n",
    "    ([forward_to_move,turn_purple],\"forward\"),\n",
    "    ([forward,until_piece_up,move_pt5],'launch'),\n",
    "     ([launch,until_not_piece_up,until_piece_up_or_wall,move_pt5],'launch'),\n",
    ")"
   ]
  },
  {
   "cell_type": "code",
   "execution_count": 115,
   "id": "00ca2a01-2cd0-4fc1-91ca-a30027a0bef3",
   "metadata": {},
   "outputs": [],
   "source": [
    "def set_move(t,robot):\n",
    "    count=0\n",
    "    for distance in robot.box_distances:\n",
    "        if distance<20:\n",
    "            count+=1\n",
    "\n",
    "    robot.count=count\n",
    "    robot.move=(count-1)%4\n",
    "    if robot.move==0:\n",
    "        robot.move=1\n",
    "\n",
    "    return True"
   ]
  },
  {
   "cell_type": "code",
   "execution_count": 116,
   "id": "9fdc6857-6720-4915-9149-1fa8ad94bca4",
   "metadata": {},
   "outputs": [],
   "source": [
    "# def take_picture(t,robot):\n",
    "#     robot.take_picture(\"board.jpeg\")\n",
    "#     return True"
   ]
  },
  {
   "cell_type": "code",
   "execution_count": 117,
   "id": "48efc7ed-17db-4cc6-8178-f6d2ea600bdf",
   "metadata": {},
   "outputs": [],
   "source": [
    "state_machine=StateMachine(\n",
    "    (take_picture,\"_end_simulation\"),\n",
    ")"
   ]
  },
  {
   "cell_type": "code",
   "execution_count": 118,
   "id": "3abfa5e7-a087-489b-87a5-de9def4ae5f2",
   "metadata": {},
   "outputs": [
    {
     "ename": "OSError",
     "evalue": "[Errno 22] Invalid argument: 'board1.jpeg'",
     "output_type": "error",
     "traceback": [
      "\u001b[1;31m---------------------------------------------------------------------------\u001b[0m",
      "\u001b[1;31mOSError\u001b[0m                                   Traceback (most recent call last)",
      "\u001b[1;32m<ipython-input-118-4fc133a8264f>\u001b[0m in \u001b[0;36m<module>\u001b[1;34m\u001b[0m\n\u001b[0;32m     17\u001b[0m             \u001b[0mBox\u001b[0m\u001b[1;33m(\u001b[0m\u001b[0menv\u001b[0m\u001b[1;33m,\u001b[0m\u001b[0mx\u001b[0m\u001b[1;33m=\u001b[0m\u001b[1;36m5\u001b[0m\u001b[1;33m+\u001b[0m\u001b[0mp\u001b[0m\u001b[1;33m*\u001b[0m\u001b[1;36m1.6\u001b[0m\u001b[1;33m,\u001b[0m\u001b[0my\u001b[0m\u001b[1;33m=\u001b[0m\u001b[0my\u001b[0m\u001b[1;33m,\u001b[0m\u001b[0mwidth\u001b[0m\u001b[1;33m=\u001b[0m\u001b[1;36m1\u001b[0m\u001b[1;33m,\u001b[0m\u001b[0mheight\u001b[0m\u001b[1;33m=\u001b[0m\u001b[1;36m1\u001b[0m\u001b[1;33m,\u001b[0m\u001b[0mdensity\u001b[0m\u001b[1;33m=\u001b[0m\u001b[1;36m0.001\u001b[0m\u001b[1;33m)\u001b[0m\u001b[1;33m\u001b[0m\u001b[1;33m\u001b[0m\u001b[0m\n\u001b[0;32m     18\u001b[0m \u001b[1;33m\u001b[0m\u001b[0m\n\u001b[1;32m---> 19\u001b[1;33m run_sim(env,robot.controller, \n\u001b[0m\u001b[0;32m     20\u001b[0m         \u001b[0mfigure_width\u001b[0m\u001b[1;33m=\u001b[0m\u001b[1;36m6\u001b[0m\u001b[1;33m,\u001b[0m\u001b[1;33m\u001b[0m\u001b[1;33m\u001b[0m\u001b[0m\n\u001b[0;32m     21\u001b[0m        \u001b[0mtotal_time\u001b[0m\u001b[1;33m=\u001b[0m\u001b[1;36m100\u001b[0m\u001b[1;33m,\u001b[0m\u001b[1;33m\u001b[0m\u001b[1;33m\u001b[0m\u001b[0m\n",
      "\u001b[1;32m~\\anaconda3\\lib\\site-packages\\RobotSim373\\robotsim.py\u001b[0m in \u001b[0;36mrun_sim\u001b[1;34m(env, act, total_time, dt, dt_display, figure_width, plot_orientation, show_boundary)\u001b[0m\n\u001b[0;32m   1136\u001b[0m \u001b[1;33m\u001b[0m\u001b[0m\n\u001b[0;32m   1137\u001b[0m             \u001b[1;32melse\u001b[0m\u001b[1;33m:\u001b[0m\u001b[1;33m\u001b[0m\u001b[1;33m\u001b[0m\u001b[0m\n\u001b[1;32m-> 1138\u001b[1;33m                 \u001b[0mvalue\u001b[0m\u001b[1;33m=\u001b[0m\u001b[0mact\u001b[0m\u001b[1;33m(\u001b[0m\u001b[0menv\u001b[0m\u001b[1;33m.\u001b[0m\u001b[0mt\u001b[0m\u001b[1;33m,\u001b[0m\u001b[0mrobot\u001b[0m\u001b[1;33m)\u001b[0m\u001b[1;33m\u001b[0m\u001b[1;33m\u001b[0m\u001b[0m\n\u001b[0m\u001b[0;32m   1139\u001b[0m                 \u001b[1;32mif\u001b[0m \u001b[0mvalue\u001b[0m\u001b[1;33m:\u001b[0m\u001b[1;33m\u001b[0m\u001b[1;33m\u001b[0m\u001b[0m\n\u001b[0;32m   1140\u001b[0m                     \u001b[0mstop\u001b[0m\u001b[1;33m=\u001b[0m\u001b[1;32mTrue\u001b[0m\u001b[1;33m\u001b[0m\u001b[1;33m\u001b[0m\u001b[0m\n",
      "\u001b[1;32m~\\anaconda3\\lib\\site-packages\\RobotSim373\\robotsim.py\u001b[0m in \u001b[0;36m__call__\u001b[1;34m(self, t, robot)\u001b[0m\n\u001b[0;32m    284\u001b[0m \u001b[1;33m\u001b[0m\u001b[0m\n\u001b[0;32m    285\u001b[0m     \u001b[1;32mdef\u001b[0m \u001b[0m__call__\u001b[0m\u001b[1;33m(\u001b[0m\u001b[0mself\u001b[0m\u001b[1;33m,\u001b[0m\u001b[0mt\u001b[0m\u001b[1;33m,\u001b[0m\u001b[0mrobot\u001b[0m\u001b[1;33m)\u001b[0m\u001b[1;33m:\u001b[0m\u001b[1;33m\u001b[0m\u001b[1;33m\u001b[0m\u001b[0m\n\u001b[1;32m--> 286\u001b[1;33m         \u001b[1;32mreturn\u001b[0m \u001b[0mself\u001b[0m\u001b[1;33m.\u001b[0m\u001b[0mact\u001b[0m\u001b[1;33m(\u001b[0m\u001b[0mt\u001b[0m\u001b[1;33m,\u001b[0m\u001b[0mrobot\u001b[0m\u001b[1;33m)\u001b[0m\u001b[1;33m\u001b[0m\u001b[1;33m\u001b[0m\u001b[0m\n\u001b[0m\u001b[0;32m    287\u001b[0m \u001b[1;33m\u001b[0m\u001b[0m\n\u001b[0;32m    288\u001b[0m     \u001b[1;32mdef\u001b[0m \u001b[0mact\u001b[0m\u001b[1;33m(\u001b[0m\u001b[0mself\u001b[0m\u001b[1;33m,\u001b[0m\u001b[0mt\u001b[0m\u001b[1;33m,\u001b[0m\u001b[0mrobot\u001b[0m\u001b[1;33m)\u001b[0m\u001b[1;33m:\u001b[0m\u001b[1;33m\u001b[0m\u001b[1;33m\u001b[0m\u001b[0m\n",
      "\u001b[1;32m~\\anaconda3\\lib\\site-packages\\RobotSim373\\robotsim.py\u001b[0m in \u001b[0;36mact\u001b[1;34m(self, t, robot)\u001b[0m\n\u001b[0;32m    315\u001b[0m \u001b[1;33m\u001b[0m\u001b[0m\n\u001b[0;32m    316\u001b[0m \u001b[1;33m\u001b[0m\u001b[0m\n\u001b[1;32m--> 317\u001b[1;33m         \u001b[0mvalue\u001b[0m\u001b[1;33m=\u001b[0m\u001b[0maction\u001b[0m\u001b[1;33m(\u001b[0m\u001b[0mt\u001b[0m\u001b[1;33m-\u001b[0m\u001b[0mself\u001b[0m\u001b[1;33m.\u001b[0m\u001b[0mstart_time\u001b[0m\u001b[1;33m,\u001b[0m\u001b[0mrobot\u001b[0m\u001b[1;33m)\u001b[0m\u001b[1;33m\u001b[0m\u001b[1;33m\u001b[0m\u001b[0m\n\u001b[0m\u001b[0;32m    318\u001b[0m \u001b[1;33m\u001b[0m\u001b[0m\n\u001b[0;32m    319\u001b[0m \u001b[1;33m\u001b[0m\u001b[0m\n",
      "\u001b[1;32m<ipython-input-88-1ae2be00a3bc>\u001b[0m in \u001b[0;36mtake_picture\u001b[1;34m(t, robot)\u001b[0m\n\u001b[0;32m      1\u001b[0m \u001b[1;32mdef\u001b[0m \u001b[0mtake_picture\u001b[0m\u001b[1;33m(\u001b[0m\u001b[0mt\u001b[0m\u001b[1;33m,\u001b[0m\u001b[0mrobot\u001b[0m\u001b[1;33m)\u001b[0m\u001b[1;33m:\u001b[0m\u001b[1;33m\u001b[0m\u001b[1;33m\u001b[0m\u001b[0m\n\u001b[1;32m----> 2\u001b[1;33m     \u001b[0mrobot\u001b[0m\u001b[1;33m.\u001b[0m\u001b[0mtake_picture\u001b[0m\u001b[1;33m(\u001b[0m\u001b[1;34m\"board1.jpeg\"\u001b[0m\u001b[1;33m)\u001b[0m\u001b[1;33m\u001b[0m\u001b[1;33m\u001b[0m\u001b[0m\n\u001b[0m\u001b[0;32m      3\u001b[0m     \u001b[1;32mreturn\u001b[0m \u001b[1;32mTrue\u001b[0m\u001b[1;33m\u001b[0m\u001b[1;33m\u001b[0m\u001b[0m\n",
      "\u001b[1;32m~\\anaconda3\\lib\\site-packages\\RobotSim373\\robotsim.py\u001b[0m in \u001b[0;36mtake_picture\u001b[1;34m(self, filename, show, **kwargs)\u001b[0m\n\u001b[0;32m    517\u001b[0m \u001b[1;33m\u001b[0m\u001b[0m\n\u001b[0;32m    518\u001b[0m         \u001b[0mfig\u001b[0m\u001b[1;33m=\u001b[0m\u001b[0mdisplay\u001b[0m\u001b[1;33m(\u001b[0m\u001b[0mself\u001b[0m\u001b[1;33m.\u001b[0m\u001b[0menv\u001b[0m\u001b[1;33m,\u001b[0m\u001b[0mshow\u001b[0m\u001b[1;33m=\u001b[0m\u001b[0mshow\u001b[0m\u001b[1;33m)\u001b[0m\u001b[1;33m\u001b[0m\u001b[1;33m\u001b[0m\u001b[0m\n\u001b[1;32m--> 519\u001b[1;33m         \u001b[0mfig\u001b[0m\u001b[1;33m.\u001b[0m\u001b[0msavefig\u001b[0m\u001b[1;33m(\u001b[0m\u001b[0mfilename\u001b[0m\u001b[1;33m,\u001b[0m\u001b[1;33m**\u001b[0m\u001b[0mkwargs\u001b[0m\u001b[1;33m)\u001b[0m\u001b[1;33m\u001b[0m\u001b[1;33m\u001b[0m\u001b[0m\n\u001b[0m\u001b[0;32m    520\u001b[0m \u001b[1;33m\u001b[0m\u001b[0m\n\u001b[0;32m    521\u001b[0m         \u001b[1;32mif\u001b[0m \u001b[1;32mnot\u001b[0m \u001b[0mshow\u001b[0m\u001b[1;33m:\u001b[0m\u001b[1;33m\u001b[0m\u001b[1;33m\u001b[0m\u001b[0m\n",
      "\u001b[1;32m~\\anaconda3\\lib\\site-packages\\matplotlib\\figure.py\u001b[0m in \u001b[0;36msavefig\u001b[1;34m(self, fname, transparent, **kwargs)\u001b[0m\n\u001b[0;32m   2309\u001b[0m                 \u001b[0mpatch\u001b[0m\u001b[1;33m.\u001b[0m\u001b[0mset_edgecolor\u001b[0m\u001b[1;33m(\u001b[0m\u001b[1;34m'none'\u001b[0m\u001b[1;33m)\u001b[0m\u001b[1;33m\u001b[0m\u001b[1;33m\u001b[0m\u001b[0m\n\u001b[0;32m   2310\u001b[0m \u001b[1;33m\u001b[0m\u001b[0m\n\u001b[1;32m-> 2311\u001b[1;33m         \u001b[0mself\u001b[0m\u001b[1;33m.\u001b[0m\u001b[0mcanvas\u001b[0m\u001b[1;33m.\u001b[0m\u001b[0mprint_figure\u001b[0m\u001b[1;33m(\u001b[0m\u001b[0mfname\u001b[0m\u001b[1;33m,\u001b[0m \u001b[1;33m**\u001b[0m\u001b[0mkwargs\u001b[0m\u001b[1;33m)\u001b[0m\u001b[1;33m\u001b[0m\u001b[1;33m\u001b[0m\u001b[0m\n\u001b[0m\u001b[0;32m   2312\u001b[0m \u001b[1;33m\u001b[0m\u001b[0m\n\u001b[0;32m   2313\u001b[0m         \u001b[1;32mif\u001b[0m \u001b[0mtransparent\u001b[0m\u001b[1;33m:\u001b[0m\u001b[1;33m\u001b[0m\u001b[1;33m\u001b[0m\u001b[0m\n",
      "\u001b[1;32m~\\anaconda3\\lib\\site-packages\\matplotlib\\backend_bases.py\u001b[0m in \u001b[0;36mprint_figure\u001b[1;34m(self, filename, dpi, facecolor, edgecolor, orientation, format, bbox_inches, pad_inches, bbox_extra_artists, backend, **kwargs)\u001b[0m\n\u001b[0;32m   2208\u001b[0m \u001b[1;33m\u001b[0m\u001b[0m\n\u001b[0;32m   2209\u001b[0m             \u001b[1;32mtry\u001b[0m\u001b[1;33m:\u001b[0m\u001b[1;33m\u001b[0m\u001b[1;33m\u001b[0m\u001b[0m\n\u001b[1;32m-> 2210\u001b[1;33m                 result = print_method(\n\u001b[0m\u001b[0;32m   2211\u001b[0m                     \u001b[0mfilename\u001b[0m\u001b[1;33m,\u001b[0m\u001b[1;33m\u001b[0m\u001b[1;33m\u001b[0m\u001b[0m\n\u001b[0;32m   2212\u001b[0m                     \u001b[0mdpi\u001b[0m\u001b[1;33m=\u001b[0m\u001b[0mdpi\u001b[0m\u001b[1;33m,\u001b[0m\u001b[1;33m\u001b[0m\u001b[1;33m\u001b[0m\u001b[0m\n",
      "\u001b[1;32m~\\anaconda3\\lib\\site-packages\\matplotlib\\backend_bases.py\u001b[0m in \u001b[0;36mwrapper\u001b[1;34m(*args, **kwargs)\u001b[0m\n\u001b[0;32m   1637\u001b[0m             \u001b[0mkwargs\u001b[0m\u001b[1;33m.\u001b[0m\u001b[0mpop\u001b[0m\u001b[1;33m(\u001b[0m\u001b[0marg\u001b[0m\u001b[1;33m)\u001b[0m\u001b[1;33m\u001b[0m\u001b[1;33m\u001b[0m\u001b[0m\n\u001b[0;32m   1638\u001b[0m \u001b[1;33m\u001b[0m\u001b[0m\n\u001b[1;32m-> 1639\u001b[1;33m         \u001b[1;32mreturn\u001b[0m \u001b[0mfunc\u001b[0m\u001b[1;33m(\u001b[0m\u001b[1;33m*\u001b[0m\u001b[0margs\u001b[0m\u001b[1;33m,\u001b[0m \u001b[1;33m**\u001b[0m\u001b[0mkwargs\u001b[0m\u001b[1;33m)\u001b[0m\u001b[1;33m\u001b[0m\u001b[1;33m\u001b[0m\u001b[0m\n\u001b[0m\u001b[0;32m   1640\u001b[0m \u001b[1;33m\u001b[0m\u001b[0m\n\u001b[0;32m   1641\u001b[0m     \u001b[1;32mreturn\u001b[0m \u001b[0mwrapper\u001b[0m\u001b[1;33m\u001b[0m\u001b[1;33m\u001b[0m\u001b[0m\n",
      "\u001b[1;32m~\\anaconda3\\lib\\site-packages\\matplotlib\\cbook\\deprecation.py\u001b[0m in \u001b[0;36mwrapper\u001b[1;34m(*inner_args, **inner_kwargs)\u001b[0m\n\u001b[0;32m    409\u001b[0m                          \u001b[1;32melse\u001b[0m \u001b[0mdeprecation_addendum\u001b[0m\u001b[1;33m,\u001b[0m\u001b[1;33m\u001b[0m\u001b[1;33m\u001b[0m\u001b[0m\n\u001b[0;32m    410\u001b[0m                 **kwargs)\n\u001b[1;32m--> 411\u001b[1;33m         \u001b[1;32mreturn\u001b[0m \u001b[0mfunc\u001b[0m\u001b[1;33m(\u001b[0m\u001b[1;33m*\u001b[0m\u001b[0minner_args\u001b[0m\u001b[1;33m,\u001b[0m \u001b[1;33m**\u001b[0m\u001b[0minner_kwargs\u001b[0m\u001b[1;33m)\u001b[0m\u001b[1;33m\u001b[0m\u001b[1;33m\u001b[0m\u001b[0m\n\u001b[0m\u001b[0;32m    412\u001b[0m \u001b[1;33m\u001b[0m\u001b[0m\n\u001b[0;32m    413\u001b[0m     \u001b[1;32mreturn\u001b[0m \u001b[0mwrapper\u001b[0m\u001b[1;33m\u001b[0m\u001b[1;33m\u001b[0m\u001b[0m\n",
      "\u001b[1;32m~\\anaconda3\\lib\\site-packages\\matplotlib\\cbook\\deprecation.py\u001b[0m in \u001b[0;36mwrapper\u001b[1;34m(*inner_args, **inner_kwargs)\u001b[0m\n\u001b[0;32m    409\u001b[0m                          \u001b[1;32melse\u001b[0m \u001b[0mdeprecation_addendum\u001b[0m\u001b[1;33m,\u001b[0m\u001b[1;33m\u001b[0m\u001b[1;33m\u001b[0m\u001b[0m\n\u001b[0;32m    410\u001b[0m                 **kwargs)\n\u001b[1;32m--> 411\u001b[1;33m         \u001b[1;32mreturn\u001b[0m \u001b[0mfunc\u001b[0m\u001b[1;33m(\u001b[0m\u001b[1;33m*\u001b[0m\u001b[0minner_args\u001b[0m\u001b[1;33m,\u001b[0m \u001b[1;33m**\u001b[0m\u001b[0minner_kwargs\u001b[0m\u001b[1;33m)\u001b[0m\u001b[1;33m\u001b[0m\u001b[1;33m\u001b[0m\u001b[0m\n\u001b[0m\u001b[0;32m    412\u001b[0m \u001b[1;33m\u001b[0m\u001b[0m\n\u001b[0;32m    413\u001b[0m     \u001b[1;32mreturn\u001b[0m \u001b[0mwrapper\u001b[0m\u001b[1;33m\u001b[0m\u001b[1;33m\u001b[0m\u001b[0m\n",
      "\u001b[1;32m~\\anaconda3\\lib\\site-packages\\matplotlib\\cbook\\deprecation.py\u001b[0m in \u001b[0;36mwrapper\u001b[1;34m(*inner_args, **inner_kwargs)\u001b[0m\n\u001b[0;32m    409\u001b[0m                          \u001b[1;32melse\u001b[0m \u001b[0mdeprecation_addendum\u001b[0m\u001b[1;33m,\u001b[0m\u001b[1;33m\u001b[0m\u001b[1;33m\u001b[0m\u001b[0m\n\u001b[0;32m    410\u001b[0m                 **kwargs)\n\u001b[1;32m--> 411\u001b[1;33m         \u001b[1;32mreturn\u001b[0m \u001b[0mfunc\u001b[0m\u001b[1;33m(\u001b[0m\u001b[1;33m*\u001b[0m\u001b[0minner_args\u001b[0m\u001b[1;33m,\u001b[0m \u001b[1;33m**\u001b[0m\u001b[0minner_kwargs\u001b[0m\u001b[1;33m)\u001b[0m\u001b[1;33m\u001b[0m\u001b[1;33m\u001b[0m\u001b[0m\n\u001b[0m\u001b[0;32m    412\u001b[0m \u001b[1;33m\u001b[0m\u001b[0m\n\u001b[0;32m    413\u001b[0m     \u001b[1;32mreturn\u001b[0m \u001b[0mwrapper\u001b[0m\u001b[1;33m\u001b[0m\u001b[1;33m\u001b[0m\u001b[0m\n",
      "\u001b[1;32m~\\anaconda3\\lib\\site-packages\\matplotlib\\cbook\\deprecation.py\u001b[0m in \u001b[0;36mwrapper\u001b[1;34m(*inner_args, **inner_kwargs)\u001b[0m\n\u001b[0;32m    409\u001b[0m                          \u001b[1;32melse\u001b[0m \u001b[0mdeprecation_addendum\u001b[0m\u001b[1;33m,\u001b[0m\u001b[1;33m\u001b[0m\u001b[1;33m\u001b[0m\u001b[0m\n\u001b[0;32m    410\u001b[0m                 **kwargs)\n\u001b[1;32m--> 411\u001b[1;33m         \u001b[1;32mreturn\u001b[0m \u001b[0mfunc\u001b[0m\u001b[1;33m(\u001b[0m\u001b[1;33m*\u001b[0m\u001b[0minner_args\u001b[0m\u001b[1;33m,\u001b[0m \u001b[1;33m**\u001b[0m\u001b[0minner_kwargs\u001b[0m\u001b[1;33m)\u001b[0m\u001b[1;33m\u001b[0m\u001b[1;33m\u001b[0m\u001b[0m\n\u001b[0m\u001b[0;32m    412\u001b[0m \u001b[1;33m\u001b[0m\u001b[0m\n\u001b[0;32m    413\u001b[0m     \u001b[1;32mreturn\u001b[0m \u001b[0mwrapper\u001b[0m\u001b[1;33m\u001b[0m\u001b[1;33m\u001b[0m\u001b[0m\n",
      "\u001b[1;32m~\\anaconda3\\lib\\site-packages\\matplotlib\\backends\\backend_agg.py\u001b[0m in \u001b[0;36mprint_jpg\u001b[1;34m(self, filename_or_obj, dryrun, pil_kwargs, *args, **kwargs)\u001b[0m\n\u001b[0;32m    590\u001b[0m         \u001b[0mpil_kwargs\u001b[0m\u001b[1;33m.\u001b[0m\u001b[0msetdefault\u001b[0m\u001b[1;33m(\u001b[0m\u001b[1;34m\"dpi\"\u001b[0m\u001b[1;33m,\u001b[0m \u001b[1;33m(\u001b[0m\u001b[0mself\u001b[0m\u001b[1;33m.\u001b[0m\u001b[0mfigure\u001b[0m\u001b[1;33m.\u001b[0m\u001b[0mdpi\u001b[0m\u001b[1;33m,\u001b[0m \u001b[0mself\u001b[0m\u001b[1;33m.\u001b[0m\u001b[0mfigure\u001b[0m\u001b[1;33m.\u001b[0m\u001b[0mdpi\u001b[0m\u001b[1;33m)\u001b[0m\u001b[1;33m)\u001b[0m\u001b[1;33m\u001b[0m\u001b[1;33m\u001b[0m\u001b[0m\n\u001b[0;32m    591\u001b[0m         \u001b[1;31m# Drop alpha channel now.\u001b[0m\u001b[1;33m\u001b[0m\u001b[1;33m\u001b[0m\u001b[1;33m\u001b[0m\u001b[0m\n\u001b[1;32m--> 592\u001b[1;33m         return (Image.fromarray(np.asarray(self.buffer_rgba())[..., :3])\n\u001b[0m\u001b[0;32m    593\u001b[0m                 .save(filename_or_obj, format='jpeg', **pil_kwargs))\n\u001b[0;32m    594\u001b[0m \u001b[1;33m\u001b[0m\u001b[0m\n",
      "\u001b[1;32m~\\anaconda3\\lib\\site-packages\\PIL\\Image.py\u001b[0m in \u001b[0;36msave\u001b[1;34m(self, fp, format, **params)\u001b[0m\n\u001b[0;32m   2167\u001b[0m                 \u001b[0mfp\u001b[0m \u001b[1;33m=\u001b[0m \u001b[0mbuiltins\u001b[0m\u001b[1;33m.\u001b[0m\u001b[0mopen\u001b[0m\u001b[1;33m(\u001b[0m\u001b[0mfilename\u001b[0m\u001b[1;33m,\u001b[0m \u001b[1;34m\"r+b\"\u001b[0m\u001b[1;33m)\u001b[0m\u001b[1;33m\u001b[0m\u001b[1;33m\u001b[0m\u001b[0m\n\u001b[0;32m   2168\u001b[0m             \u001b[1;32melse\u001b[0m\u001b[1;33m:\u001b[0m\u001b[1;33m\u001b[0m\u001b[1;33m\u001b[0m\u001b[0m\n\u001b[1;32m-> 2169\u001b[1;33m                 \u001b[0mfp\u001b[0m \u001b[1;33m=\u001b[0m \u001b[0mbuiltins\u001b[0m\u001b[1;33m.\u001b[0m\u001b[0mopen\u001b[0m\u001b[1;33m(\u001b[0m\u001b[0mfilename\u001b[0m\u001b[1;33m,\u001b[0m \u001b[1;34m\"w+b\"\u001b[0m\u001b[1;33m)\u001b[0m\u001b[1;33m\u001b[0m\u001b[1;33m\u001b[0m\u001b[0m\n\u001b[0m\u001b[0;32m   2170\u001b[0m \u001b[1;33m\u001b[0m\u001b[0m\n\u001b[0;32m   2171\u001b[0m         \u001b[1;32mtry\u001b[0m\u001b[1;33m:\u001b[0m\u001b[1;33m\u001b[0m\u001b[1;33m\u001b[0m\u001b[0m\n",
      "\u001b[1;31mOSError\u001b[0m: [Errno 22] Invalid argument: 'board1.jpeg'"
     ]
    },
    {
     "data": {
      "image/png": "[encoded data removed]",
      "text/plain": [
       "<Figure size 432x432 with 1 Axes>"
      ]
     },
     "metadata": {
      "needs_background": "light"
     },
     "output_type": "display_data"
    }
   ],
   "source": [
    "env=FrictionEnvironment(25,25)\n",
    "robot=Robot(env)\n",
    "build(robot)\n",
    "robot.controller=Controller(state_machine)\n",
    "robot.controller.monitor=monitor\n",
    "\n",
    "robot.count=0\n",
    "robot.seeing_piece=False\n",
    "\n",
    "N=randint(1,25)\n",
    "N=20\n",
    "y=0\n",
    "for i in range(4):\n",
    "    y+=5\n",
    "    for p in range(5):\n",
    "#         if rand()<.5:\n",
    "            Box(env,x=5+p*1.6,y=y,width=1,height=1,density=0.001)\n",
    "\n",
    "run_sim(env,robot.controller, \n",
    "        figure_width=6,\n",
    "       total_time=100,\n",
    "       dt_display=0.1,  # make this larger for a faster display\n",
    "       )"
   ]
  },
  {
   "cell_type": "code",
   "execution_count": null,
   "id": "f40e8371-9743-412c-9268-9e113b732b4f",
   "metadata": {},
   "outputs": [],
   "source": []
  },
  {
   "cell_type": "code",
   "execution_count": null,
   "id": "49fa22a7-0a50-4ce3-a6fd-47af68e8c835",
   "metadata": {},
   "outputs": [],
   "source": []
  }
 ],
 "metadata": {
  "kernelspec": {
   "display_name": "Python 3",
   "language": "python",
   "name": "python3"
  },
  "language_info": {
   "codemirror_mode": {
    "name": "ipython",
    "version": 3
   },
   "file_extension": ".py",
   "mimetype": "text/x-python",
   "name": "python",
   "nbconvert_exporter": "python",
   "pygments_lexer": "ipython3",
   "version": "3.8.8"
  }
 },
 "nbformat": 4,
 "nbformat_minor": 5
}
