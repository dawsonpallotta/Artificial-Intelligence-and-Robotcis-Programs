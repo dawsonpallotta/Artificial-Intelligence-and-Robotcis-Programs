{
 "cells": [
  {
   "cell_type": "code",
   "execution_count": 2,
   "id": "bc23cfd2-b2da-420b-8b15-124caf692894",
   "metadata": {},
   "outputs": [
    {
     "name": "stdout",
     "output_type": "stream",
     "text": [
      "Version:  0.2.27\n"
     ]
    }
   ],
   "source": [
    "from Game import*"
   ]
  },
  {
   "cell_type": "code",
   "execution_count": 3,
   "id": "910e56cd-88e6-46c8-88b8-d7309e85a28b",
   "metadata": {},
   "outputs": [],
   "source": [
    "def initial_state():\n",
    "    state=Board(4,5)\n",
    "    \n",
    "    for i in range(20):\n",
    "        state [i]=1\n",
    "\n",
    "\n",
    "    \n",
    "    return state"
   ]
  },
  {
   "cell_type": "code",
   "execution_count": 4,
   "id": "2e59bf30-afb6-413f-aa65-514fd6772ff2",
   "metadata": {},
   "outputs": [
    {
     "data": {
      "text/plain": [
       " 1  1  1  1  1 \n",
       " 1  1  1  1  1 \n",
       " 1  1  1  1  1 \n",
       " 1  1  1  1  1 "
      ]
     },
     "execution_count": 4,
     "metadata": {},
     "output_type": "execute_result"
    }
   ],
   "source": [
    "initial_state()"
   ]
  },
  {
   "cell_type": "code",
   "execution_count": 5,
   "id": "a08185d6-c2b2-419b-9077-54098c93ecbc",
   "metadata": {},
   "outputs": [],
   "source": [
    "state=initial_state()"
   ]
  },
  {
   "cell_type": "code",
   "execution_count": 6,
   "id": "8434e9ac-de6d-4d92-abaa-15a7fd3df55c",
   "metadata": {},
   "outputs": [
    {
     "name": "stdout",
     "output_type": "stream",
     "text": [
      " 0  1  2  3  4 \n",
      " 5  6  7  8  9 \n",
      "10 11 12 13 14 \n",
      "15 16 17 18 19 \n",
      "\n"
     ]
    }
   ],
   "source": [
    "state.show_locations()"
   ]
  },
  {
   "cell_type": "code",
   "execution_count": 7,
   "id": "d823c758-e45c-4dd2-b734-8f7a5f75b68c",
   "metadata": {},
   "outputs": [],
   "source": [
    "def update_state(state,player,move):\n",
    "    #a move is a start and end location\n",
    "    new_state=state\n",
    "    \n",
    "    start_row,start_col=state.rc_from_index(move)\n",
    "    \n",
    "    for c in range(start_col,5):\n",
    "        for r in range(start_row,4):\n",
    "            new_state[r,c]=0\n",
    "    \n",
    "    return new_state"
   ]
  },
  {
   "cell_type": "code",
   "execution_count": 8,
   "id": "4f66406e-3b86-4c17-bf9f-7c4f31e65bed",
   "metadata": {},
   "outputs": [],
   "source": [
    "def show_state(state):\n",
    "    print(state)"
   ]
  },
  {
   "cell_type": "code",
   "execution_count": 9,
   "id": "b92425a3-8d96-4323-9527-5054c5d81c37",
   "metadata": {},
   "outputs": [
    {
     "name": "stdout",
     "output_type": "stream",
     "text": [
      " 1  1  1  1  1 \n",
      " 1  1  1  1  1 \n",
      " 1  1  1  1  1 \n",
      " 1  1  1  1  1 \n",
      "\n"
     ]
    }
   ],
   "source": [
    "show_state(state)"
   ]
  },
  {
   "cell_type": "code",
   "execution_count": 10,
   "id": "bbf70b6d-8ace-42ca-b0e0-235d19fc2d44",
   "metadata": {},
   "outputs": [
    {
     "name": "stdout",
     "output_type": "stream",
     "text": [
      " 1  1  1  1  1 \n",
      " 1  1  1  1  1 \n",
      " 1  1  1  1  1 \n",
      " 1  1  1  1  1 \n",
      "\n"
     ]
    }
   ],
   "source": [
    "state=initial_state()\n",
    "show_state(state)"
   ]
  },
  {
   "cell_type": "code",
   "execution_count": 11,
   "id": "ef97f5ef-c57c-4147-bb3d-55f5dd7dd769",
   "metadata": {},
   "outputs": [],
   "source": [
    "def valid_moves(state,player):\n",
    "    moves=[]\n",
    "    for location in range(20):\n",
    "        if state[location]==1:\n",
    "            moves.append(location)\n",
    "    return moves\n"
   ]
  },
  {
   "cell_type": "code",
   "execution_count": 12,
   "id": "f69dc84a-0837-45aa-af6b-259fd5c895f2",
   "metadata": {},
   "outputs": [
    {
     "name": "stdout",
     "output_type": "stream",
     "text": [
      " 1  1  1  1  1 \n",
      " 1  1  1  1  1 \n",
      " 1  1  1  1  1 \n",
      " 1  1  1  1  1 \n",
      "\n"
     ]
    },
    {
     "data": {
      "text/plain": [
       "[0, 1, 2, 3, 4, 5, 6, 7, 8, 9, 10, 11, 12, 13, 14, 15, 16, 17, 18, 19]"
      ]
     },
     "execution_count": 12,
     "metadata": {},
     "output_type": "execute_result"
    }
   ],
   "source": [
    "show_state(state)\n",
    "valid_moves(state,2)"
   ]
  },
  {
   "cell_type": "code",
   "execution_count": 13,
   "id": "e1864fb6-dcee-4ae4-b8c3-1e334e5769ef",
   "metadata": {},
   "outputs": [
    {
     "data": {
      "text/plain": [
       " 1  1  1  1  1 \n",
       " 1  1  1  1  1 \n",
       " 1  1  1  1  1 \n",
       " 1  1  1  1  1 "
      ]
     },
     "execution_count": 13,
     "metadata": {},
     "output_type": "execute_result"
    }
   ],
   "source": [
    "state=initial_state()\n",
    "state"
   ]
  },
  {
   "cell_type": "code",
   "execution_count": 14,
   "id": "4bdc7628-5640-4792-ad96-390940317b1b",
   "metadata": {},
   "outputs": [
    {
     "data": {
      "text/plain": [
       "[0, 1, 2, 3, 4, 5, 6, 7, 8, 9, 10, 11, 12, 13, 14, 15, 16, 17, 18, 19]"
      ]
     },
     "execution_count": 14,
     "metadata": {},
     "output_type": "execute_result"
    }
   ],
   "source": [
    "valid_moves(state,1)"
   ]
  },
  {
   "cell_type": "code",
   "execution_count": 15,
   "id": "525ece5a-eeb7-4756-8462-96bd61d6ca38",
   "metadata": {},
   "outputs": [],
   "source": [
    "def win_status(state,player):\n",
    "    if state[0]==0:\n",
    "        return \"lose\""
   ]
  },
  {
   "cell_type": "code",
   "execution_count": 16,
   "id": "d041b3a9-1821-4e3b-a25a-c57c5bbd5fd8",
   "metadata": {},
   "outputs": [],
   "source": [
    "# agents and human moves \n",
    "\n",
    "def random_move(state,player):\n",
    "    moves=valid_moves(state,player)\n",
    "    moves.remove(0)\n",
    "\n",
    "    if not moves:\n",
    "        return 0\n",
    "    else:\n",
    "        return random.choice(moves)\n",
    "    \n",
    "    \n",
    "def human_move(state,player):\n",
    "    \n",
    "    state.show_locations()\n",
    "    move=int(input(\"What square do you want to eat?\"))\n",
    "    \n",
    "    \n",
    "    return move\n",
    "    \n",
    "\n",
    "\n",
    "random_agent=Agent(random_move)\n",
    "human_agent=Agent(human_move)\n",
    "\n",
    "        "
   ]
  },
  {
   "cell_type": "code",
   "execution_count": 17,
   "id": "201859be-8dd1-4323-bd84-d1e10db666e9",
   "metadata": {},
   "outputs": [
    {
     "data": {
      "text/plain": [
       " 1  1  1  1  1 \n",
       " 1  1  1  1  1 \n",
       " 1  1  1  1  1 \n",
       " 1  1  1  1  1 "
      ]
     },
     "execution_count": 17,
     "metadata": {},
     "output_type": "execute_result"
    }
   ],
   "source": [
    "initial_state()"
   ]
  },
  {
   "cell_type": "code",
   "execution_count": 18,
   "id": "84f5aaec-8b1e-4018-ae4d-0e15f1223bb0",
   "metadata": {},
   "outputs": [
    {
     "name": "stdout",
     "output_type": "stream",
     "text": [
      " 1  1  1  1  1 \n",
      " 1  1  1  1  1 \n",
      " 1  1  1  1  1 \n",
      " 1  1  1  1  1 \n",
      "\n"
     ]
    },
    {
     "data": {
      "text/plain": [
       "[0, 1, 2, 3, 4, 5, 6, 7, 8, 9, 10, 11, 12, 13, 14, 15, 16, 17, 18, 19]"
      ]
     },
     "execution_count": 18,
     "metadata": {},
     "output_type": "execute_result"
    }
   ],
   "source": [
    "show_state(state)\n",
    "valid_moves(state,1)"
   ]
  },
  {
   "cell_type": "code",
   "execution_count": 19,
   "id": "6e9ab251-9a37-42d8-a534-1a2b76485741",
   "metadata": {},
   "outputs": [
    {
     "name": "stdout",
     "output_type": "stream",
     "text": [
      " 1  1  1  1  1 \n",
      " 1  1  1  1  1 \n",
      " 1  1  1  1  1 \n",
      " 1  1  1  1  1 \n",
      "\n"
     ]
    }
   ],
   "source": [
    "state=initial_state()\n",
    "show_state(state)"
   ]
  },
  {
   "cell_type": "code",
   "execution_count": 20,
   "id": "871f569f-10eb-45af-b488-5e682020a846",
   "metadata": {},
   "outputs": [
    {
     "ename": "TypeError",
     "evalue": "run() missing 2 required positional arguments: 'agent1' and 'agent2'",
     "output_type": "error",
     "traceback": [
      "\u001b[1;31m---------------------------------------------------------------------------\u001b[0m",
      "\u001b[1;31mTypeError\u001b[0m                                 Traceback (most recent call last)",
      "\u001b[1;32m<ipython-input-20-d390ea960792>\u001b[0m in \u001b[0;36m<module>\u001b[1;34m\u001b[0m\n\u001b[0;32m      1\u001b[0m \u001b[0mg\u001b[0m\u001b[1;33m=\u001b[0m\u001b[0mGame\u001b[0m\u001b[1;33m(\u001b[0m\u001b[1;33m)\u001b[0m\u001b[1;33m\u001b[0m\u001b[1;33m\u001b[0m\u001b[0m\n\u001b[1;32m----> 2\u001b[1;33m \u001b[0mg\u001b[0m\u001b[1;33m.\u001b[0m\u001b[0mrun\u001b[0m\u001b[1;33m(\u001b[0m\u001b[1;33m)\u001b[0m\u001b[1;33m\u001b[0m\u001b[1;33m\u001b[0m\u001b[0m\n\u001b[0m",
      "\u001b[1;31mTypeError\u001b[0m: run() missing 2 required positional arguments: 'agent1' and 'agent2'"
     ]
    }
   ],
   "source": [
    "g=Game()\n",
    "g.run()"
   ]
  },
  {
   "cell_type": "code",
   "execution_count": 21,
   "id": "7394b8b5-7f1c-4e56-94bc-fd4c5ad396e5",
   "metadata": {},
   "outputs": [
    {
     "data": {
      "text/plain": [
       "[0, 1, 2, 3, 4, 5, 6, 7, 8, 9, 10, 11, 12, 13, 14, 15, 16, 17, 18, 19]"
      ]
     },
     "execution_count": 21,
     "metadata": {},
     "output_type": "execute_result"
    }
   ],
   "source": [
    "valid_moves(state,1)"
   ]
  },
  {
   "cell_type": "code",
   "execution_count": 22,
   "id": "459120e0-d4b7-4e0c-8b79-be4239506281",
   "metadata": {},
   "outputs": [
    {
     "data": {
      "text/plain": [
       "[0, 1, 2, 3, 4, 5, 6, 7, 8, 9, 10, 11, 12, 13, 14, 15, 16, 17, 18, 19]"
      ]
     },
     "execution_count": 22,
     "metadata": {},
     "output_type": "execute_result"
    }
   ],
   "source": [
    "valid_moves(state,2)"
   ]
  },
  {
   "cell_type": "code",
   "execution_count": 23,
   "id": "646df41d-9a1e-4db0-a242-1572bb4c5e3f",
   "metadata": {},
   "outputs": [],
   "source": [
    "from Game.minimax import*\n",
    "def minimax_move(state,player):\n",
    "    values,moves=minimax_values(state,player,display=True)\n",
    "    return top_choice(moves,values)\n",
    "\n",
    "minimax_agent=Agent(minimax_move)"
   ]
  },
  {
   "cell_type": "code",
   "execution_count": 24,
   "id": "2df8d5f4-7f4c-4cfa-bf1d-ba25dbc5ccb4",
   "metadata": {},
   "outputs": [
    {
     "name": "stdout",
     "output_type": "stream",
     "text": [
      " 0  1  2  3  4 \n",
      " 5  6  7  8  9 \n",
      "10 11 12 13 14 \n",
      "15 16 17 18 19 \n",
      "\n"
     ]
    }
   ],
   "source": [
    "state.show_locations()"
   ]
  },
  {
   "cell_type": "code",
   "execution_count": 25,
   "id": "fdeeb2e8-6fd1-4899-a3f6-ce6a71ac3cee",
   "metadata": {},
   "outputs": [],
   "source": [
    "state=initial_state()"
   ]
  },
  {
   "cell_type": "code",
   "execution_count": 26,
   "id": "e0402455-6f45-4877-8241-e8e5e70a5de5",
   "metadata": {},
   "outputs": [],
   "source": [
    "def skittles_move(state, player, info):\n",
    "    T=info.T\n",
    "    last_state=info.last_state\n",
    "    last_action=info.last_action\n",
    "    learning=info.learning\n",
    "    if state not in T:\n",
    "        actions=valid_moves(state,player)\n",
    "        T[state]=Table()\n",
    "        for action in actions:\n",
    "            T[state][action]=2 #initial number of skittles\n",
    "    \n",
    "    move=weighted_choice(T[state])\n",
    "    \n",
    "    if move is None:\n",
    "        # learn\n",
    "        if learning:\n",
    "            if last_state:\n",
    "                T[last_state][last_action]-=1 #take away a skittle\n",
    "                if T[last_state][last_action]<0:\n",
    "                    T[last_state][last_action]=0\n",
    "        \n",
    "        return random_move(state,player)\n",
    "    else:\n",
    "        return move"
   ]
  },
  {
   "cell_type": "code",
   "execution_count": 27,
   "id": "7afff3f6-9adb-4940-b608-cb3e39a2ac26",
   "metadata": {},
   "outputs": [],
   "source": [
    "def skittles_after(status,player,info):\n",
    "    #not return anything but\n",
    "    #will adjust the skittles table if lost the game\n",
    "    T=info.T\n",
    "    last_state=info.last_state\n",
    "    last_action=info.last_action\n",
    "    learning=info.learning\n",
    "    if status=='lose':\n",
    "        T[last_state][last_action]-=1 #take away a skittle\n",
    "        if T[last_state][last_action]<0:\n",
    "            T[last_state][last_action]=0"
   ]
  },
  {
   "cell_type": "code",
   "execution_count": 28,
   "id": "3528dda2-71f1-41df-8300-c9aab812bc1f",
   "metadata": {},
   "outputs": [],
   "source": [
    "skittles_agent=Agent(skittles_move)\n",
    "skittles_agent.post=skittles_after\n",
    "skittles_agent.T=Table()   #makes an empty table\n",
    "skittles_agent.learning=True"
   ]
  },
  {
   "cell_type": "code",
   "execution_count": 29,
   "id": "3372dd6a-8568-4a90-bbf4-53e854d0b0cf",
   "metadata": {},
   "outputs": [
    {
     "name": "stdout",
     "output_type": "stream",
     "text": [
      "Wall time: 59.6 s\n"
     ]
    }
   ],
   "source": [
    "%%time\n",
    "N_train=5\n",
    "N_test=100\n",
    "\n",
    "percentage_player1_wins=[]\n",
    "percentage_player2_wins=[]\n",
    "percentage_ties=[]\n",
    "total_number_of_games=[]\n",
    "\n",
    "skittles_agent.T = Table()\n",
    "\n",
    "current_game_number=0\n",
    "\n",
    "for i in range(100):\n",
    "    \n",
    "    skittles_agent.learning=True\n",
    "    g=Game(number_of_games=N_train)\n",
    "    g.display=False\n",
    "    g.run(random_agent,skittles_agent)\n",
    "    \n",
    "    current_game_number+=N_train\n",
    "\n",
    "    skittles_agent.learning=False\n",
    "    g=Game(number_of_games=N_test)\n",
    "    g.display=False\n",
    "    results=g.run(random_agent,skittles_agent)\n",
    "    \n",
    "    percentage_player1_wins.append(results.count(1))\n",
    "    percentage_player2_wins.append(results.count(2))\n",
    "    percentage_ties.append(results.count(0))\n",
    "    total_number_of_games.append(current_game_number)"
   ]
  },
  {
   "cell_type": "code",
   "execution_count": 33,
   "id": "10b7589a-fbbf-4801-810b-c7add772ae52",
   "metadata": {},
   "outputs": [
    {
     "name": "stdout",
     "output_type": "stream",
     "text": [
      "Wall time: 341 ms\n"
     ]
    },
    {
     "data": {
      "text/plain": [
       "[1,\n",
       " 2,\n",
       " 2,\n",
       " 1,\n",
       " 2,\n",
       " 2,\n",
       " 2,\n",
       " 2,\n",
       " 2,\n",
       " 1,\n",
       " 1,\n",
       " 2,\n",
       " 2,\n",
       " 1,\n",
       " 2,\n",
       " 2,\n",
       " 2,\n",
       " 2,\n",
       " 2,\n",
       " 2,\n",
       " 1,\n",
       " 2,\n",
       " 2,\n",
       " 1,\n",
       " 2,\n",
       " 2,\n",
       " 2,\n",
       " 1,\n",
       " 2,\n",
       " 2,\n",
       " 2,\n",
       " 1,\n",
       " 2,\n",
       " 2,\n",
       " 2,\n",
       " 2,\n",
       " 2,\n",
       " 2,\n",
       " 2,\n",
       " 2,\n",
       " 2,\n",
       " 2,\n",
       " 2,\n",
       " 2,\n",
       " 2,\n",
       " 2,\n",
       " 2,\n",
       " 2,\n",
       " 2,\n",
       " 2]"
      ]
     },
     "execution_count": 33,
     "metadata": {},
     "output_type": "execute_result"
    }
   ],
   "source": [
    "%%time\n",
    "skittles_agent.learning=True\n",
    "g=Game(number_of_games=50)\n",
    "g.display=False\n",
    "results=g.run(random_agent,skittles_agent)\n",
    "results"
   ]
  },
  {
   "cell_type": "code",
   "execution_count": 58,
   "id": "d544d5be-4705-4471-8adb-9ca612ff4145",
   "metadata": {},
   "outputs": [],
   "source": [
    "%matplotlib inline\n",
    "from matplotlib.pylab import figure,plot,legend,xlabel, ylabel"
   ]
  },
  {
   "cell_type": "code",
   "execution_count": 59,
   "id": "5dbe589a-488c-4cab-95e3-cfa7fe217712",
   "metadata": {},
   "outputs": [
    {
     "data": {
      "text/plain": [
       "<matplotlib.legend.Legend at 0x1d09ecc4070>"
      ]
     },
     "execution_count": 59,
     "metadata": {},
     "output_type": "execute_result"
    },
    {
     "data": {
      "image/png": "[encoded data removed]",
      "text/plain": [
       "<Figure size 576x432 with 1 Axes>"
      ]
     },
     "metadata": {
      "needs_background": "light"
     },
     "output_type": "display_data"
    }
   ],
   "source": [
    "figure(figsize=(8,6))\n",
    "plot(total_number_of_games,percentage_player1_wins,'-o', label=\"Player 1 Wins\")\n",
    "plot(total_number_of_games,percentage_player2_wins,'-x', label=\"Player 2 Wins\")\n",
    "plot(total_number_of_games,percentage_ties,'-s', label=\"Ties\")\n",
    "xlabel('Number of Games')\n",
    "ylabel('Percentage')\n",
    "legend()"
   ]
  },
  {
   "cell_type": "code",
   "execution_count": 34,
   "id": "227551f9-48cd-4256-8d24-b708f547d257",
   "metadata": {},
   "outputs": [
    {
     "name": "stdout",
     "output_type": "stream",
     "text": [
      "====\n",
      "Game  1\n",
      " 1  1  1  1  1 \n",
      " 1  1  1  1  1 \n",
      " 1  1  1  1  1 \n",
      " 1  1  1  1  1 \n",
      "\n",
      " 0  1  2  3  4 \n",
      " 5  6  7  8  9 \n",
      "10 11 12 13 14 \n",
      "15 16 17 18 19 \n",
      "\n"
     ]
    },
    {
     "name": "stdin",
     "output_type": "stream",
     "text": [
      "What square do you want to eat? 12\n"
     ]
    },
    {
     "name": "stdout",
     "output_type": "stream",
     "text": [
      "Player 1 moves 12\n",
      " 1  1  1  1  1 \n",
      " 1  1  1  1  1 \n",
      " 1  1  0  0  0 \n",
      " 1  1  0  0  0 \n",
      "\n",
      "Player 2 moves 8\n",
      " 1  1  1  1  1 \n",
      " 1  1  1  0  0 \n",
      " 1  1  0  0  0 \n",
      " 1  1  0  0  0 \n",
      "\n",
      " 0  1  2  3  4 \n",
      " 5  6  7  8  9 \n",
      "10 11 12 13 14 \n",
      "15 16 17 18 19 \n",
      "\n"
     ]
    },
    {
     "name": "stdin",
     "output_type": "stream",
     "text": [
      "What square do you want to eat? 7\n"
     ]
    },
    {
     "name": "stdout",
     "output_type": "stream",
     "text": [
      "Player 1 moves 7\n",
      " 1  1  1  1  1 \n",
      " 1  1  0  0  0 \n",
      " 1  1  0  0  0 \n",
      " 1  1  0  0  0 \n",
      "\n",
      "Player 2 moves 15\n",
      " 1  1  1  1  1 \n",
      " 1  1  0  0  0 \n",
      " 1  1  0  0  0 \n",
      " 0  0  0  0  0 \n",
      "\n",
      " 0  1  2  3  4 \n",
      " 5  6  7  8  9 \n",
      "10 11 12 13 14 \n",
      "15 16 17 18 19 \n",
      "\n"
     ]
    },
    {
     "name": "stdin",
     "output_type": "stream",
     "text": [
      "What square do you want to eat? 10\n"
     ]
    },
    {
     "name": "stdout",
     "output_type": "stream",
     "text": [
      "Player 1 moves 10\n",
      " 1  1  1  1  1 \n",
      " 1  1  0  0  0 \n",
      " 0  0  0  0  0 \n",
      " 0  0  0  0  0 \n",
      "\n",
      "Player 2 moves 4\n",
      " 1  1  1  1  0 \n",
      " 1  1  0  0  0 \n",
      " 0  0  0  0  0 \n",
      " 0  0  0  0  0 \n",
      "\n",
      " 0  1  2  3  4 \n",
      " 5  6  7  8  9 \n",
      "10 11 12 13 14 \n",
      "15 16 17 18 19 \n",
      "\n"
     ]
    },
    {
     "name": "stdin",
     "output_type": "stream",
     "text": [
      "What square do you want to eat? 1\n"
     ]
    },
    {
     "name": "stdout",
     "output_type": "stream",
     "text": [
      "Player 1 moves 1\n",
      " 1  0  0  0  0 \n",
      " 1  0  0  0  0 \n",
      " 0  0  0  0  0 \n",
      " 0  0  0  0  0 \n",
      "\n",
      "Player 2 moves 0\n",
      " 1  0  0  0  0 \n",
      " 1  0  0  0  0 \n",
      " 0  0  0  0  0 \n",
      " 0  0  0  0  0 \n",
      "\n",
      "Player  1 won.\n"
     ]
    },
    {
     "data": {
      "text/plain": [
       "[1]"
      ]
     },
     "execution_count": 34,
     "metadata": {},
     "output_type": "execute_result"
    }
   ],
   "source": [
    "g=Game()\n",
    "g.run(human_agent,skittles_agent)"
   ]
  },
  {
   "cell_type": "code",
   "execution_count": null,
   "id": "50f7e0b3-1e52-411b-be18-88693c4596b0",
   "metadata": {},
   "outputs": [],
   "source": []
  }
 ],
 "metadata": {
  "kernelspec": {
   "display_name": "Python 3",
   "language": "python",
   "name": "python3"
  },
  "language_info": {
   "codemirror_mode": {
    "name": "ipython",
    "version": 3
   },
   "file_extension": ".py",
   "mimetype": "text/x-python",
   "name": "python",
   "nbconvert_exporter": "python",
   "pygments_lexer": "ipython3",
   "version": "3.8.8"
  }
 },
 "nbformat": 4,
 "nbformat_minor": 5
}
